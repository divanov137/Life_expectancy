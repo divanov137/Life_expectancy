{
 "cells": [
  {
   "cell_type": "markdown",
   "metadata": {},
   "source": [
    "What are the variable that affect life expectancy, and what measures can countries take in order to improve the average lifespan of people?"
   ]
  },
  {
   "cell_type": "code",
   "execution_count": 1,
   "metadata": {},
   "outputs": [],
   "source": [
    "import numpy as np\n",
    "import pandas as pd\n",
    "import matplotlib.pyplot as plt\n",
    "import seaborn as sns"
   ]
  },
  {
   "cell_type": "code",
   "execution_count": 2,
   "metadata": {},
   "outputs": [],
   "source": [
    "df = pd.read_csv('../../DATA/led.csv')"
   ]
  },
  {
   "cell_type": "code",
   "execution_count": 3,
   "metadata": {},
   "outputs": [
    {
     "data": {
      "text/html": [
       "<div>\n",
       "<style scoped>\n",
       "    .dataframe tbody tr th:only-of-type {\n",
       "        vertical-align: middle;\n",
       "    }\n",
       "\n",
       "    .dataframe tbody tr th {\n",
       "        vertical-align: top;\n",
       "    }\n",
       "\n",
       "    .dataframe thead th {\n",
       "        text-align: right;\n",
       "    }\n",
       "</style>\n",
       "<table border=\"1\" class=\"dataframe\">\n",
       "  <thead>\n",
       "    <tr style=\"text-align: right;\">\n",
       "      <th></th>\n",
       "      <th>0</th>\n",
       "      <th>1</th>\n",
       "      <th>2</th>\n",
       "      <th>3</th>\n",
       "      <th>4</th>\n",
       "    </tr>\n",
       "  </thead>\n",
       "  <tbody>\n",
       "    <tr>\n",
       "      <th>Country</th>\n",
       "      <td>Afghanistan</td>\n",
       "      <td>Afghanistan</td>\n",
       "      <td>Afghanistan</td>\n",
       "      <td>Afghanistan</td>\n",
       "      <td>Afghanistan</td>\n",
       "    </tr>\n",
       "    <tr>\n",
       "      <th>Year</th>\n",
       "      <td>2015</td>\n",
       "      <td>2014</td>\n",
       "      <td>2013</td>\n",
       "      <td>2012</td>\n",
       "      <td>2011</td>\n",
       "    </tr>\n",
       "    <tr>\n",
       "      <th>Status</th>\n",
       "      <td>Developing</td>\n",
       "      <td>Developing</td>\n",
       "      <td>Developing</td>\n",
       "      <td>Developing</td>\n",
       "      <td>Developing</td>\n",
       "    </tr>\n",
       "    <tr>\n",
       "      <th>Lifeexpectancy</th>\n",
       "      <td>65</td>\n",
       "      <td>59.9</td>\n",
       "      <td>59.9</td>\n",
       "      <td>59.5</td>\n",
       "      <td>59.2</td>\n",
       "    </tr>\n",
       "    <tr>\n",
       "      <th>AdultMortality</th>\n",
       "      <td>263</td>\n",
       "      <td>271</td>\n",
       "      <td>268</td>\n",
       "      <td>272</td>\n",
       "      <td>275</td>\n",
       "    </tr>\n",
       "    <tr>\n",
       "      <th>infantdeaths</th>\n",
       "      <td>62</td>\n",
       "      <td>64</td>\n",
       "      <td>66</td>\n",
       "      <td>69</td>\n",
       "      <td>71</td>\n",
       "    </tr>\n",
       "    <tr>\n",
       "      <th>Alcohol</th>\n",
       "      <td>0.01</td>\n",
       "      <td>0.01</td>\n",
       "      <td>0.01</td>\n",
       "      <td>0.01</td>\n",
       "      <td>0.01</td>\n",
       "    </tr>\n",
       "    <tr>\n",
       "      <th>percentageexpenditure</th>\n",
       "      <td>71.2796</td>\n",
       "      <td>73.5236</td>\n",
       "      <td>73.2192</td>\n",
       "      <td>78.1842</td>\n",
       "      <td>7.09711</td>\n",
       "    </tr>\n",
       "    <tr>\n",
       "      <th>HepatitisB</th>\n",
       "      <td>65</td>\n",
       "      <td>62</td>\n",
       "      <td>64</td>\n",
       "      <td>67</td>\n",
       "      <td>68</td>\n",
       "    </tr>\n",
       "    <tr>\n",
       "      <th>Measles</th>\n",
       "      <td>1154</td>\n",
       "      <td>492</td>\n",
       "      <td>430</td>\n",
       "      <td>2787</td>\n",
       "      <td>3013</td>\n",
       "    </tr>\n",
       "    <tr>\n",
       "      <th>BMI</th>\n",
       "      <td>19.1</td>\n",
       "      <td>18.6</td>\n",
       "      <td>18.1</td>\n",
       "      <td>17.6</td>\n",
       "      <td>17.2</td>\n",
       "    </tr>\n",
       "    <tr>\n",
       "      <th>under-fivedeaths</th>\n",
       "      <td>83</td>\n",
       "      <td>86</td>\n",
       "      <td>89</td>\n",
       "      <td>93</td>\n",
       "      <td>97</td>\n",
       "    </tr>\n",
       "    <tr>\n",
       "      <th>Polio</th>\n",
       "      <td>6</td>\n",
       "      <td>58</td>\n",
       "      <td>62</td>\n",
       "      <td>67</td>\n",
       "      <td>68</td>\n",
       "    </tr>\n",
       "    <tr>\n",
       "      <th>Totalexpenditure</th>\n",
       "      <td>8.16</td>\n",
       "      <td>8.18</td>\n",
       "      <td>8.13</td>\n",
       "      <td>8.52</td>\n",
       "      <td>7.87</td>\n",
       "    </tr>\n",
       "    <tr>\n",
       "      <th>Diphtheria</th>\n",
       "      <td>65</td>\n",
       "      <td>62</td>\n",
       "      <td>64</td>\n",
       "      <td>67</td>\n",
       "      <td>68</td>\n",
       "    </tr>\n",
       "    <tr>\n",
       "      <th>HIV/AIDS</th>\n",
       "      <td>0.1</td>\n",
       "      <td>0.1</td>\n",
       "      <td>0.1</td>\n",
       "      <td>0.1</td>\n",
       "      <td>0.1</td>\n",
       "    </tr>\n",
       "    <tr>\n",
       "      <th>GDP</th>\n",
       "      <td>584.259</td>\n",
       "      <td>612.697</td>\n",
       "      <td>631.745</td>\n",
       "      <td>669.959</td>\n",
       "      <td>63.5372</td>\n",
       "    </tr>\n",
       "    <tr>\n",
       "      <th>Population</th>\n",
       "      <td>3.37365e+07</td>\n",
       "      <td>327582</td>\n",
       "      <td>3.17317e+07</td>\n",
       "      <td>3.69696e+06</td>\n",
       "      <td>2.9786e+06</td>\n",
       "    </tr>\n",
       "    <tr>\n",
       "      <th>thinness1-19years</th>\n",
       "      <td>17.2</td>\n",
       "      <td>17.5</td>\n",
       "      <td>17.7</td>\n",
       "      <td>17.9</td>\n",
       "      <td>18.2</td>\n",
       "    </tr>\n",
       "    <tr>\n",
       "      <th>thinness5-9years</th>\n",
       "      <td>17.3</td>\n",
       "      <td>17.5</td>\n",
       "      <td>17.7</td>\n",
       "      <td>18</td>\n",
       "      <td>18.2</td>\n",
       "    </tr>\n",
       "    <tr>\n",
       "      <th>Incomecompositionofresources</th>\n",
       "      <td>0.479</td>\n",
       "      <td>0.476</td>\n",
       "      <td>0.47</td>\n",
       "      <td>0.463</td>\n",
       "      <td>0.454</td>\n",
       "    </tr>\n",
       "    <tr>\n",
       "      <th>Schooling</th>\n",
       "      <td>10.1</td>\n",
       "      <td>10</td>\n",
       "      <td>9.9</td>\n",
       "      <td>9.8</td>\n",
       "      <td>9.5</td>\n",
       "    </tr>\n",
       "  </tbody>\n",
       "</table>\n",
       "</div>"
      ],
      "text/plain": [
       "                                        0            1            2  \\\n",
       "Country                       Afghanistan  Afghanistan  Afghanistan   \n",
       "Year                                 2015         2014         2013   \n",
       "Status                         Developing   Developing   Developing   \n",
       "Lifeexpectancy                         65         59.9         59.9   \n",
       "AdultMortality                        263          271          268   \n",
       "infantdeaths                           62           64           66   \n",
       "Alcohol                              0.01         0.01         0.01   \n",
       "percentageexpenditure             71.2796      73.5236      73.2192   \n",
       "HepatitisB                             65           62           64   \n",
       "Measles                              1154          492          430   \n",
       "BMI                                  19.1         18.6         18.1   \n",
       "under-fivedeaths                       83           86           89   \n",
       "Polio                                   6           58           62   \n",
       "Totalexpenditure                     8.16         8.18         8.13   \n",
       "Diphtheria                             65           62           64   \n",
       "HIV/AIDS                              0.1          0.1          0.1   \n",
       "GDP                               584.259      612.697      631.745   \n",
       "Population                    3.37365e+07       327582  3.17317e+07   \n",
       "thinness1-19years                    17.2         17.5         17.7   \n",
       "thinness5-9years                     17.3         17.5         17.7   \n",
       "Incomecompositionofresources        0.479        0.476         0.47   \n",
       "Schooling                            10.1           10          9.9   \n",
       "\n",
       "                                        3            4  \n",
       "Country                       Afghanistan  Afghanistan  \n",
       "Year                                 2012         2011  \n",
       "Status                         Developing   Developing  \n",
       "Lifeexpectancy                       59.5         59.2  \n",
       "AdultMortality                        272          275  \n",
       "infantdeaths                           69           71  \n",
       "Alcohol                              0.01         0.01  \n",
       "percentageexpenditure             78.1842      7.09711  \n",
       "HepatitisB                             67           68  \n",
       "Measles                              2787         3013  \n",
       "BMI                                  17.6         17.2  \n",
       "under-fivedeaths                       93           97  \n",
       "Polio                                  67           68  \n",
       "Totalexpenditure                     8.52         7.87  \n",
       "Diphtheria                             67           68  \n",
       "HIV/AIDS                              0.1          0.1  \n",
       "GDP                               669.959      63.5372  \n",
       "Population                    3.69696e+06   2.9786e+06  \n",
       "thinness1-19years                    17.9         18.2  \n",
       "thinness5-9years                       18         18.2  \n",
       "Incomecompositionofresources        0.463        0.454  \n",
       "Schooling                             9.8          9.5  "
      ]
     },
     "execution_count": 3,
     "metadata": {},
     "output_type": "execute_result"
    }
   ],
   "source": [
    "df.head().transpose()"
   ]
  },
  {
   "cell_type": "code",
   "execution_count": 4,
   "metadata": {},
   "outputs": [
    {
     "data": {
      "text/plain": [
       "Index(['Country', 'Year', 'Status', 'Lifeexpectancy', 'AdultMortality',\n",
       "       'infantdeaths', 'Alcohol', 'percentageexpenditure', 'HepatitisB',\n",
       "       'Measles', 'BMI', 'under-fivedeaths', 'Polio', 'Totalexpenditure',\n",
       "       'Diphtheria', 'HIV/AIDS', 'GDP', 'Population', 'thinness1-19years',\n",
       "       'thinness5-9years', 'Incomecompositionofresources', 'Schooling'],\n",
       "      dtype='object')"
      ]
     },
     "execution_count": 4,
     "metadata": {},
     "output_type": "execute_result"
    }
   ],
   "source": [
    "df.columns"
   ]
  },
  {
   "cell_type": "code",
   "execution_count": 5,
   "metadata": {},
   "outputs": [
    {
     "data": {
      "text/plain": [
       "2938"
      ]
     },
     "execution_count": 5,
     "metadata": {},
     "output_type": "execute_result"
    }
   ],
   "source": [
    "len(df)"
   ]
  },
  {
   "cell_type": "code",
   "execution_count": 6,
   "metadata": {},
   "outputs": [
    {
     "name": "stdout",
     "output_type": "stream",
     "text": [
      "<class 'pandas.core.frame.DataFrame'>\n",
      "RangeIndex: 2938 entries, 0 to 2937\n",
      "Data columns (total 22 columns):\n",
      "Country                         2938 non-null object\n",
      "Year                            2938 non-null int64\n",
      "Status                          2938 non-null object\n",
      "Lifeexpectancy                  2928 non-null float64\n",
      "AdultMortality                  2928 non-null float64\n",
      "infantdeaths                    2938 non-null int64\n",
      "Alcohol                         2744 non-null float64\n",
      "percentageexpenditure           2938 non-null float64\n",
      "HepatitisB                      2385 non-null float64\n",
      "Measles                         2938 non-null int64\n",
      "BMI                             2904 non-null float64\n",
      "under-fivedeaths                2938 non-null int64\n",
      "Polio                           2919 non-null float64\n",
      "Totalexpenditure                2712 non-null float64\n",
      "Diphtheria                      2919 non-null float64\n",
      "HIV/AIDS                        2938 non-null float64\n",
      "GDP                             2490 non-null float64\n",
      "Population                      2286 non-null float64\n",
      "thinness1-19years               2904 non-null float64\n",
      "thinness5-9years                2904 non-null float64\n",
      "Incomecompositionofresources    2771 non-null float64\n",
      "Schooling                       2775 non-null float64\n",
      "dtypes: float64(16), int64(4), object(2)\n",
      "memory usage: 505.1+ KB\n"
     ]
    }
   ],
   "source": [
    "df.info()"
   ]
  },
  {
   "cell_type": "code",
   "execution_count": 7,
   "metadata": {},
   "outputs": [
    {
     "data": {
      "text/plain": [
       "Country                           0\n",
       "Year                              0\n",
       "Status                            0\n",
       "Lifeexpectancy                   10\n",
       "AdultMortality                   10\n",
       "infantdeaths                      0\n",
       "Alcohol                         194\n",
       "percentageexpenditure             0\n",
       "HepatitisB                      553\n",
       "Measles                           0\n",
       "BMI                              34\n",
       "under-fivedeaths                  0\n",
       "Polio                            19\n",
       "Totalexpenditure                226\n",
       "Diphtheria                       19\n",
       "HIV/AIDS                          0\n",
       "GDP                             448\n",
       "Population                      652\n",
       "thinness1-19years                34\n",
       "thinness5-9years                 34\n",
       "Incomecompositionofresources    167\n",
       "Schooling                       163\n",
       "dtype: int64"
      ]
     },
     "execution_count": 7,
     "metadata": {},
     "output_type": "execute_result"
    }
   ],
   "source": [
    "df.isnull().sum()"
   ]
  },
  {
   "cell_type": "code",
   "execution_count": 11,
   "metadata": {},
   "outputs": [
    {
     "data": {
      "text/plain": [
       "AdultMortality                 -0.696359\n",
       "HIV/AIDS                       -0.556556\n",
       "thinness1-19years              -0.477183\n",
       "thinness5-9years               -0.471584\n",
       "under-fivedeaths               -0.222529\n",
       "infantdeaths                   -0.196557\n",
       "Measles                        -0.157586\n",
       "Population                     -0.021538\n",
       "Year                            0.170033\n",
       "Totalexpenditure                0.218086\n",
       "HepatitisB                      0.256762\n",
       "percentageexpenditure           0.381864\n",
       "Alcohol                         0.404877\n",
       "GDP                             0.461455\n",
       "Polio                           0.465556\n",
       "Diphtheria                      0.479495\n",
       "BMI                             0.567694\n",
       "Incomecompositionofresources    0.724776\n",
       "Schooling                       0.751975\n",
       "Name: Lifeexpectancy, dtype: float64"
      ]
     },
     "execution_count": 11,
     "metadata": {},
     "output_type": "execute_result"
    }
   ],
   "source": [
    "df.corr()['Lifeexpectancy'].drop('Lifeexpectancy').sort_values()"
   ]
  },
  {
   "cell_type": "code",
   "execution_count": 39,
   "metadata": {},
   "outputs": [
    {
     "data": {
      "text/plain": [
       "0.0004899295547718596"
      ]
     },
     "execution_count": 39,
     "metadata": {},
     "output_type": "execute_result"
    }
   ],
   "source": [
    "df[df['Incomecompositionofresources'].between(0.74, 0.75)].corr().loc['Lifeexpectancy', 'BMI']"
   ]
  },
  {
   "cell_type": "code",
   "execution_count": 38,
   "metadata": {},
   "outputs": [
    {
     "data": {
      "text/plain": [
       "-0.008734835739696982"
      ]
     },
     "execution_count": 38,
     "metadata": {},
     "output_type": "execute_result"
    }
   ],
   "source": [
    "df.corr().loc['Incomecompositionofresources', 'Population']"
   ]
  },
  {
   "cell_type": "code",
   "execution_count": 41,
   "metadata": {},
   "outputs": [
    {
     "data": {
      "text/plain": [
       "HepatitisB                     -0.123321\n",
       "Totalexpenditure               -0.079662\n",
       "BMI                            -0.072301\n",
       "Polio                          -0.038540\n",
       "Alcohol                        -0.035252\n",
       "Schooling                      -0.031668\n",
       "Diphtheria                     -0.028444\n",
       "GDP                            -0.028270\n",
       "HIV/AIDS                       -0.027854\n",
       "percentageexpenditure          -0.025662\n",
       "Lifeexpectancy                 -0.021538\n",
       "AdultMortality                 -0.013647\n",
       "Incomecompositionofresources   -0.008735\n",
       "Year                            0.016969\n",
       "thinness5-9years                0.251403\n",
       "thinness1-19years               0.253944\n",
       "Measles                         0.265966\n",
       "under-fivedeaths                0.544423\n",
       "infantdeaths                    0.556801\n",
       "Name: Population, dtype: float64"
      ]
     },
     "execution_count": 41,
     "metadata": {},
     "output_type": "execute_result"
    }
   ],
   "source": [
    "df.corr()['Population'].drop('Population').sort_values()"
   ]
  },
  {
   "cell_type": "code",
   "execution_count": 54,
   "metadata": {},
   "outputs": [
    {
     "data": {
      "text/plain": [
       "0.4901727662664701"
      ]
     },
     "execution_count": 54,
     "metadata": {},
     "output_type": "execute_result"
    }
   ],
   "source": [
    "df[(df['Alcohol'].between(0.0, 1.0))&(df['percentageexpenditure'].between(1000,1500))].corr().loc['Lifeexpectancy', 'Incomecompositionofresources']"
   ]
  },
  {
   "cell_type": "code",
   "execution_count": 52,
   "metadata": {},
   "outputs": [
    {
     "data": {
      "text/plain": [
       "19"
      ]
     },
     "execution_count": 52,
     "metadata": {},
     "output_type": "execute_result"
    }
   ],
   "source": [
    "len(df[(df['Alcohol'].between(0.0, 1.0))&(df['percentageexpenditure'].between(1000,2000))])"
   ]
  },
  {
   "cell_type": "code",
   "execution_count": 47,
   "metadata": {},
   "outputs": [
    {
     "data": {
      "text/plain": [
       "2938"
      ]
     },
     "execution_count": 47,
     "metadata": {},
     "output_type": "execute_result"
    }
   ],
   "source": [
    "len(df['Alcohol'].between(0.0, 1.0))"
   ]
  },
  {
   "cell_type": "code",
   "execution_count": 55,
   "metadata": {},
   "outputs": [],
   "source": [
    "exp = (df['Lifeexpectancy'] - df['Lifeexpectancy'].mean())/df['Lifeexpectancy'].std()"
   ]
  },
  {
   "cell_type": "code",
   "execution_count": 56,
   "metadata": {},
   "outputs": [
    {
     "data": {
      "text/plain": [
       "0      -0.443615\n",
       "1      -0.979112\n",
       "2      -0.979112\n",
       "3      -1.021112\n",
       "4      -1.052611\n",
       "          ...   \n",
       "2933   -2.617102\n",
       "2934   -2.596102\n",
       "2935   -2.564602\n",
       "2936   -2.512103\n",
       "2937   -2.438603\n",
       "Name: Lifeexpectancy, Length: 2938, dtype: float64"
      ]
     },
     "execution_count": 56,
     "metadata": {},
     "output_type": "execute_result"
    }
   ],
   "source": [
    "exp"
   ]
  },
  {
   "cell_type": "code",
   "execution_count": 59,
   "metadata": {},
   "outputs": [
    {
     "data": {
      "text/plain": [
       "['a']"
      ]
     },
     "execution_count": 59,
     "metadata": {},
     "output_type": "execute_result"
    }
   ],
   "source": [
    "a = []\n",
    "a.append('a')\n",
    "a"
   ]
  },
  {
   "cell_type": "code",
   "execution_count": null,
   "metadata": {},
   "outputs": [],
   "source": [
    "def find_correlation(var1, var2, *args):\n",
    "    var1_scaled = (var1 - np.mean(var1))/np.std(var1)\n",
    "    var2_scaled = (var2 - np.mean(var2))/np.std(var2)\n",
    "    scaled_vars = []\n",
    "    for arg in args:\n",
    "        scaled_vars.append((arg - np.mean(arg))/np.std(arg))\n",
    "    "
   ]
  }
 ],
 "metadata": {
  "kernelspec": {
   "display_name": "Python 3",
   "language": "python",
   "name": "python3"
  },
  "language_info": {
   "codemirror_mode": {
    "name": "ipython",
    "version": 3
   },
   "file_extension": ".py",
   "mimetype": "text/x-python",
   "name": "python",
   "nbconvert_exporter": "python",
   "pygments_lexer": "ipython3",
   "version": "3.7.1"
  }
 },
 "nbformat": 4,
 "nbformat_minor": 2
}
