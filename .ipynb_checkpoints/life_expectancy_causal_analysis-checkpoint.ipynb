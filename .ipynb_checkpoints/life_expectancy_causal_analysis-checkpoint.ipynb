{
 "cells": [
  {
   "cell_type": "markdown",
   "metadata": {},
   "source": [
    "What are the variable that affect life expectancy, and what measures can countries take in order to improve the average lifespan of people?"
   ]
  },
  {
   "cell_type": "code",
   "execution_count": 1,
   "metadata": {},
   "outputs": [],
   "source": [
    "import numpy as np\n",
    "import pandas as pd\n",
    "import matplotlib.pyplot as plt\n",
    "import seaborn as sns"
   ]
  },
  {
   "cell_type": "code",
   "execution_count": 2,
   "metadata": {},
   "outputs": [],
   "source": [
    "df = pd.read_csv('../../DATA/led.csv')"
   ]
  },
  {
   "cell_type": "code",
   "execution_count": 3,
   "metadata": {},
   "outputs": [
    {
     "data": {
      "text/html": [
       "<div>\n",
       "<style scoped>\n",
       "    .dataframe tbody tr th:only-of-type {\n",
       "        vertical-align: middle;\n",
       "    }\n",
       "\n",
       "    .dataframe tbody tr th {\n",
       "        vertical-align: top;\n",
       "    }\n",
       "\n",
       "    .dataframe thead th {\n",
       "        text-align: right;\n",
       "    }\n",
       "</style>\n",
       "<table border=\"1\" class=\"dataframe\">\n",
       "  <thead>\n",
       "    <tr style=\"text-align: right;\">\n",
       "      <th></th>\n",
       "      <th>0</th>\n",
       "      <th>1</th>\n",
       "      <th>2</th>\n",
       "      <th>3</th>\n",
       "      <th>4</th>\n",
       "    </tr>\n",
       "  </thead>\n",
       "  <tbody>\n",
       "    <tr>\n",
       "      <th>Country</th>\n",
       "      <td>Afghanistan</td>\n",
       "      <td>Afghanistan</td>\n",
       "      <td>Afghanistan</td>\n",
       "      <td>Afghanistan</td>\n",
       "      <td>Afghanistan</td>\n",
       "    </tr>\n",
       "    <tr>\n",
       "      <th>Year</th>\n",
       "      <td>2015</td>\n",
       "      <td>2014</td>\n",
       "      <td>2013</td>\n",
       "      <td>2012</td>\n",
       "      <td>2011</td>\n",
       "    </tr>\n",
       "    <tr>\n",
       "      <th>Status</th>\n",
       "      <td>Developing</td>\n",
       "      <td>Developing</td>\n",
       "      <td>Developing</td>\n",
       "      <td>Developing</td>\n",
       "      <td>Developing</td>\n",
       "    </tr>\n",
       "    <tr>\n",
       "      <th>Lifeexpectancy</th>\n",
       "      <td>65</td>\n",
       "      <td>59.9</td>\n",
       "      <td>59.9</td>\n",
       "      <td>59.5</td>\n",
       "      <td>59.2</td>\n",
       "    </tr>\n",
       "    <tr>\n",
       "      <th>AdultMortality</th>\n",
       "      <td>263</td>\n",
       "      <td>271</td>\n",
       "      <td>268</td>\n",
       "      <td>272</td>\n",
       "      <td>275</td>\n",
       "    </tr>\n",
       "    <tr>\n",
       "      <th>infantdeaths</th>\n",
       "      <td>62</td>\n",
       "      <td>64</td>\n",
       "      <td>66</td>\n",
       "      <td>69</td>\n",
       "      <td>71</td>\n",
       "    </tr>\n",
       "    <tr>\n",
       "      <th>Alcohol</th>\n",
       "      <td>0.01</td>\n",
       "      <td>0.01</td>\n",
       "      <td>0.01</td>\n",
       "      <td>0.01</td>\n",
       "      <td>0.01</td>\n",
       "    </tr>\n",
       "    <tr>\n",
       "      <th>percentageexpenditure</th>\n",
       "      <td>71.2796</td>\n",
       "      <td>73.5236</td>\n",
       "      <td>73.2192</td>\n",
       "      <td>78.1842</td>\n",
       "      <td>7.09711</td>\n",
       "    </tr>\n",
       "    <tr>\n",
       "      <th>HepatitisB</th>\n",
       "      <td>65</td>\n",
       "      <td>62</td>\n",
       "      <td>64</td>\n",
       "      <td>67</td>\n",
       "      <td>68</td>\n",
       "    </tr>\n",
       "    <tr>\n",
       "      <th>Measles</th>\n",
       "      <td>1154</td>\n",
       "      <td>492</td>\n",
       "      <td>430</td>\n",
       "      <td>2787</td>\n",
       "      <td>3013</td>\n",
       "    </tr>\n",
       "    <tr>\n",
       "      <th>BMI</th>\n",
       "      <td>19.1</td>\n",
       "      <td>18.6</td>\n",
       "      <td>18.1</td>\n",
       "      <td>17.6</td>\n",
       "      <td>17.2</td>\n",
       "    </tr>\n",
       "    <tr>\n",
       "      <th>under-fivedeaths</th>\n",
       "      <td>83</td>\n",
       "      <td>86</td>\n",
       "      <td>89</td>\n",
       "      <td>93</td>\n",
       "      <td>97</td>\n",
       "    </tr>\n",
       "    <tr>\n",
       "      <th>Polio</th>\n",
       "      <td>6</td>\n",
       "      <td>58</td>\n",
       "      <td>62</td>\n",
       "      <td>67</td>\n",
       "      <td>68</td>\n",
       "    </tr>\n",
       "    <tr>\n",
       "      <th>Totalexpenditure</th>\n",
       "      <td>8.16</td>\n",
       "      <td>8.18</td>\n",
       "      <td>8.13</td>\n",
       "      <td>8.52</td>\n",
       "      <td>7.87</td>\n",
       "    </tr>\n",
       "    <tr>\n",
       "      <th>Diphtheria</th>\n",
       "      <td>65</td>\n",
       "      <td>62</td>\n",
       "      <td>64</td>\n",
       "      <td>67</td>\n",
       "      <td>68</td>\n",
       "    </tr>\n",
       "    <tr>\n",
       "      <th>HIV/AIDS</th>\n",
       "      <td>0.1</td>\n",
       "      <td>0.1</td>\n",
       "      <td>0.1</td>\n",
       "      <td>0.1</td>\n",
       "      <td>0.1</td>\n",
       "    </tr>\n",
       "    <tr>\n",
       "      <th>GDP</th>\n",
       "      <td>584.259</td>\n",
       "      <td>612.697</td>\n",
       "      <td>631.745</td>\n",
       "      <td>669.959</td>\n",
       "      <td>63.5372</td>\n",
       "    </tr>\n",
       "    <tr>\n",
       "      <th>Population</th>\n",
       "      <td>3.37365e+07</td>\n",
       "      <td>327582</td>\n",
       "      <td>3.17317e+07</td>\n",
       "      <td>3.69696e+06</td>\n",
       "      <td>2.9786e+06</td>\n",
       "    </tr>\n",
       "    <tr>\n",
       "      <th>thinness1-19years</th>\n",
       "      <td>17.2</td>\n",
       "      <td>17.5</td>\n",
       "      <td>17.7</td>\n",
       "      <td>17.9</td>\n",
       "      <td>18.2</td>\n",
       "    </tr>\n",
       "    <tr>\n",
       "      <th>thinness5-9years</th>\n",
       "      <td>17.3</td>\n",
       "      <td>17.5</td>\n",
       "      <td>17.7</td>\n",
       "      <td>18</td>\n",
       "      <td>18.2</td>\n",
       "    </tr>\n",
       "    <tr>\n",
       "      <th>Incomecompositionofresources</th>\n",
       "      <td>0.479</td>\n",
       "      <td>0.476</td>\n",
       "      <td>0.47</td>\n",
       "      <td>0.463</td>\n",
       "      <td>0.454</td>\n",
       "    </tr>\n",
       "    <tr>\n",
       "      <th>Schooling</th>\n",
       "      <td>10.1</td>\n",
       "      <td>10</td>\n",
       "      <td>9.9</td>\n",
       "      <td>9.8</td>\n",
       "      <td>9.5</td>\n",
       "    </tr>\n",
       "  </tbody>\n",
       "</table>\n",
       "</div>"
      ],
      "text/plain": [
       "                                        0            1            2  \\\n",
       "Country                       Afghanistan  Afghanistan  Afghanistan   \n",
       "Year                                 2015         2014         2013   \n",
       "Status                         Developing   Developing   Developing   \n",
       "Lifeexpectancy                         65         59.9         59.9   \n",
       "AdultMortality                        263          271          268   \n",
       "infantdeaths                           62           64           66   \n",
       "Alcohol                              0.01         0.01         0.01   \n",
       "percentageexpenditure             71.2796      73.5236      73.2192   \n",
       "HepatitisB                             65           62           64   \n",
       "Measles                              1154          492          430   \n",
       "BMI                                  19.1         18.6         18.1   \n",
       "under-fivedeaths                       83           86           89   \n",
       "Polio                                   6           58           62   \n",
       "Totalexpenditure                     8.16         8.18         8.13   \n",
       "Diphtheria                             65           62           64   \n",
       "HIV/AIDS                              0.1          0.1          0.1   \n",
       "GDP                               584.259      612.697      631.745   \n",
       "Population                    3.37365e+07       327582  3.17317e+07   \n",
       "thinness1-19years                    17.2         17.5         17.7   \n",
       "thinness5-9years                     17.3         17.5         17.7   \n",
       "Incomecompositionofresources        0.479        0.476         0.47   \n",
       "Schooling                            10.1           10          9.9   \n",
       "\n",
       "                                        3            4  \n",
       "Country                       Afghanistan  Afghanistan  \n",
       "Year                                 2012         2011  \n",
       "Status                         Developing   Developing  \n",
       "Lifeexpectancy                       59.5         59.2  \n",
       "AdultMortality                        272          275  \n",
       "infantdeaths                           69           71  \n",
       "Alcohol                              0.01         0.01  \n",
       "percentageexpenditure             78.1842      7.09711  \n",
       "HepatitisB                             67           68  \n",
       "Measles                              2787         3013  \n",
       "BMI                                  17.6         17.2  \n",
       "under-fivedeaths                       93           97  \n",
       "Polio                                  67           68  \n",
       "Totalexpenditure                     8.52         7.87  \n",
       "Diphtheria                             67           68  \n",
       "HIV/AIDS                              0.1          0.1  \n",
       "GDP                               669.959      63.5372  \n",
       "Population                    3.69696e+06   2.9786e+06  \n",
       "thinness1-19years                    17.9         18.2  \n",
       "thinness5-9years                       18         18.2  \n",
       "Incomecompositionofresources        0.463        0.454  \n",
       "Schooling                             9.8          9.5  "
      ]
     },
     "execution_count": 3,
     "metadata": {},
     "output_type": "execute_result"
    }
   ],
   "source": [
    "df.head().transpose()"
   ]
  },
  {
   "cell_type": "code",
   "execution_count": 4,
   "metadata": {},
   "outputs": [
    {
     "data": {
      "text/plain": [
       "Index(['Country', 'Year', 'Status', 'Lifeexpectancy', 'AdultMortality',\n",
       "       'infantdeaths', 'Alcohol', 'percentageexpenditure', 'HepatitisB',\n",
       "       'Measles', 'BMI', 'under-fivedeaths', 'Polio', 'Totalexpenditure',\n",
       "       'Diphtheria', 'HIV/AIDS', 'GDP', 'Population', 'thinness1-19years',\n",
       "       'thinness5-9years', 'Incomecompositionofresources', 'Schooling'],\n",
       "      dtype='object')"
      ]
     },
     "execution_count": 4,
     "metadata": {},
     "output_type": "execute_result"
    }
   ],
   "source": [
    "df.columns"
   ]
  },
  {
   "cell_type": "code",
   "execution_count": 5,
   "metadata": {},
   "outputs": [
    {
     "data": {
      "text/plain": [
       "2938"
      ]
     },
     "execution_count": 5,
     "metadata": {},
     "output_type": "execute_result"
    }
   ],
   "source": [
    "len(df)"
   ]
  },
  {
   "cell_type": "code",
   "execution_count": 6,
   "metadata": {},
   "outputs": [
    {
     "name": "stdout",
     "output_type": "stream",
     "text": [
      "<class 'pandas.core.frame.DataFrame'>\n",
      "RangeIndex: 2938 entries, 0 to 2937\n",
      "Data columns (total 22 columns):\n",
      "Country                         2938 non-null object\n",
      "Year                            2938 non-null int64\n",
      "Status                          2938 non-null object\n",
      "Lifeexpectancy                  2928 non-null float64\n",
      "AdultMortality                  2928 non-null float64\n",
      "infantdeaths                    2938 non-null int64\n",
      "Alcohol                         2744 non-null float64\n",
      "percentageexpenditure           2938 non-null float64\n",
      "HepatitisB                      2385 non-null float64\n",
      "Measles                         2938 non-null int64\n",
      "BMI                             2904 non-null float64\n",
      "under-fivedeaths                2938 non-null int64\n",
      "Polio                           2919 non-null float64\n",
      "Totalexpenditure                2712 non-null float64\n",
      "Diphtheria                      2919 non-null float64\n",
      "HIV/AIDS                        2938 non-null float64\n",
      "GDP                             2490 non-null float64\n",
      "Population                      2286 non-null float64\n",
      "thinness1-19years               2904 non-null float64\n",
      "thinness5-9years                2904 non-null float64\n",
      "Incomecompositionofresources    2771 non-null float64\n",
      "Schooling                       2775 non-null float64\n",
      "dtypes: float64(16), int64(4), object(2)\n",
      "memory usage: 505.1+ KB\n"
     ]
    }
   ],
   "source": [
    "df.info()"
   ]
  },
  {
   "cell_type": "code",
   "execution_count": 7,
   "metadata": {},
   "outputs": [
    {
     "data": {
      "text/plain": [
       "Country                           0\n",
       "Year                              0\n",
       "Status                            0\n",
       "Lifeexpectancy                   10\n",
       "AdultMortality                   10\n",
       "infantdeaths                      0\n",
       "Alcohol                         194\n",
       "percentageexpenditure             0\n",
       "HepatitisB                      553\n",
       "Measles                           0\n",
       "BMI                              34\n",
       "under-fivedeaths                  0\n",
       "Polio                            19\n",
       "Totalexpenditure                226\n",
       "Diphtheria                       19\n",
       "HIV/AIDS                          0\n",
       "GDP                             448\n",
       "Population                      652\n",
       "thinness1-19years                34\n",
       "thinness5-9years                 34\n",
       "Incomecompositionofresources    167\n",
       "Schooling                       163\n",
       "dtype: int64"
      ]
     },
     "execution_count": 7,
     "metadata": {},
     "output_type": "execute_result"
    }
   ],
   "source": [
    "df.isnull().sum()"
   ]
  },
  {
   "cell_type": "code",
   "execution_count": 8,
   "metadata": {},
   "outputs": [
    {
     "data": {
      "text/plain": [
       "AdultMortality                 -0.696359\n",
       "HIV/AIDS                       -0.556556\n",
       "thinness1-19years              -0.477183\n",
       "thinness5-9years               -0.471584\n",
       "under-fivedeaths               -0.222529\n",
       "infantdeaths                   -0.196557\n",
       "Measles                        -0.157586\n",
       "Population                     -0.021538\n",
       "Year                            0.170033\n",
       "Totalexpenditure                0.218086\n",
       "HepatitisB                      0.256762\n",
       "percentageexpenditure           0.381864\n",
       "Alcohol                         0.404877\n",
       "GDP                             0.461455\n",
       "Polio                           0.465556\n",
       "Diphtheria                      0.479495\n",
       "BMI                             0.567694\n",
       "Incomecompositionofresources    0.724776\n",
       "Schooling                       0.751975\n",
       "Name: Lifeexpectancy, dtype: float64"
      ]
     },
     "execution_count": 8,
     "metadata": {},
     "output_type": "execute_result"
    }
   ],
   "source": [
    "df.corr()['Lifeexpectancy'].drop('Lifeexpectancy').sort_values()"
   ]
  },
  {
   "cell_type": "code",
   "execution_count": 9,
   "metadata": {},
   "outputs": [
    {
     "data": {
      "text/plain": [
       "0.0004899295547718596"
      ]
     },
     "execution_count": 9,
     "metadata": {},
     "output_type": "execute_result"
    }
   ],
   "source": [
    "df[df['Incomecompositionofresources'].between(0.74, 0.75)].corr().loc['Lifeexpectancy', 'BMI']"
   ]
  },
  {
   "cell_type": "code",
   "execution_count": 10,
   "metadata": {},
   "outputs": [
    {
     "data": {
      "text/plain": [
       "-0.008734835739696982"
      ]
     },
     "execution_count": 10,
     "metadata": {},
     "output_type": "execute_result"
    }
   ],
   "source": [
    "df.corr().loc['Incomecompositionofresources', 'Population']"
   ]
  },
  {
   "cell_type": "code",
   "execution_count": 11,
   "metadata": {},
   "outputs": [
    {
     "data": {
      "text/plain": [
       "HepatitisB                     -0.123321\n",
       "Totalexpenditure               -0.079662\n",
       "BMI                            -0.072301\n",
       "Polio                          -0.038540\n",
       "Alcohol                        -0.035252\n",
       "Schooling                      -0.031668\n",
       "Diphtheria                     -0.028444\n",
       "GDP                            -0.028270\n",
       "HIV/AIDS                       -0.027854\n",
       "percentageexpenditure          -0.025662\n",
       "Lifeexpectancy                 -0.021538\n",
       "AdultMortality                 -0.013647\n",
       "Incomecompositionofresources   -0.008735\n",
       "Year                            0.016969\n",
       "thinness5-9years                0.251403\n",
       "thinness1-19years               0.253944\n",
       "Measles                         0.265966\n",
       "under-fivedeaths                0.544423\n",
       "infantdeaths                    0.556801\n",
       "Name: Population, dtype: float64"
      ]
     },
     "execution_count": 11,
     "metadata": {},
     "output_type": "execute_result"
    }
   ],
   "source": [
    "df.corr()['Population'].drop('Population').sort_values()"
   ]
  },
  {
   "cell_type": "code",
   "execution_count": 12,
   "metadata": {},
   "outputs": [
    {
     "data": {
      "text/plain": [
       "0.4901727662664701"
      ]
     },
     "execution_count": 12,
     "metadata": {},
     "output_type": "execute_result"
    }
   ],
   "source": [
    "df[(df['Alcohol'].between(0.0, 1.0))&(df['percentageexpenditure'].between(1000,1500))].corr().loc['Lifeexpectancy', 'Incomecompositionofresources']"
   ]
  },
  {
   "cell_type": "code",
   "execution_count": 13,
   "metadata": {},
   "outputs": [
    {
     "data": {
      "text/plain": [
       "19"
      ]
     },
     "execution_count": 13,
     "metadata": {},
     "output_type": "execute_result"
    }
   ],
   "source": [
    "len(df[(df['Alcohol'].between(0.0, 1.0))&(df['percentageexpenditure'].between(1000,2000))])"
   ]
  },
  {
   "cell_type": "code",
   "execution_count": 14,
   "metadata": {},
   "outputs": [
    {
     "data": {
      "text/plain": [
       "2938"
      ]
     },
     "execution_count": 14,
     "metadata": {},
     "output_type": "execute_result"
    }
   ],
   "source": [
    "len(df['Alcohol'].between(0.0, 1.0))"
   ]
  },
  {
   "cell_type": "code",
   "execution_count": 15,
   "metadata": {},
   "outputs": [],
   "source": [
    "exp = (df['Lifeexpectancy'] - df['Lifeexpectancy'].mean())/df['Lifeexpectancy'].std()"
   ]
  },
  {
   "cell_type": "code",
   "execution_count": 16,
   "metadata": {},
   "outputs": [
    {
     "data": {
      "text/plain": [
       "0      -0.443615\n",
       "1      -0.979112\n",
       "2      -0.979112\n",
       "3      -1.021112\n",
       "4      -1.052611\n",
       "          ...   \n",
       "2933   -2.617102\n",
       "2934   -2.596102\n",
       "2935   -2.564602\n",
       "2936   -2.512103\n",
       "2937   -2.438603\n",
       "Name: Lifeexpectancy, Length: 2938, dtype: float64"
      ]
     },
     "execution_count": 16,
     "metadata": {},
     "output_type": "execute_result"
    }
   ],
   "source": [
    "exp"
   ]
  },
  {
   "cell_type": "code",
   "execution_count": 17,
   "metadata": {},
   "outputs": [],
   "source": [
    "from sklearn.preprocessing import StandardScaler"
   ]
  },
  {
   "cell_type": "code",
   "execution_count": 18,
   "metadata": {},
   "outputs": [],
   "source": [
    "scaler = StandardScaler()"
   ]
  },
  {
   "cell_type": "code",
   "execution_count": 19,
   "metadata": {},
   "outputs": [
    {
     "name": "stdout",
     "output_type": "stream",
     "text": [
      "<class 'sklearn.preprocessing.data.StandardScaler'>\n"
     ]
    }
   ],
   "source": [
    "print(type(scaler))"
   ]
  },
  {
   "cell_type": "code",
   "execution_count": 20,
   "metadata": {},
   "outputs": [],
   "source": [
    "df_new = df[['Incomecompositionofresources', 'Alcohol', 'percentageexpenditure', 'Lifeexpectancy']]"
   ]
  },
  {
   "cell_type": "code",
   "execution_count": 21,
   "metadata": {},
   "outputs": [],
   "source": [
    "df_new = df_new.dropna()"
   ]
  },
  {
   "cell_type": "code",
   "execution_count": 22,
   "metadata": {},
   "outputs": [
    {
     "data": {
      "text/plain": [
       "Incomecompositionofresources    0\n",
       "Alcohol                         0\n",
       "percentageexpenditure           0\n",
       "Lifeexpectancy                  0\n",
       "dtype: int64"
      ]
     },
     "execution_count": 22,
     "metadata": {},
     "output_type": "execute_result"
    }
   ],
   "source": [
    "df_new.isnull().sum()"
   ]
  },
  {
   "cell_type": "code",
   "execution_count": 23,
   "metadata": {},
   "outputs": [
    {
     "data": {
      "text/plain": [
       "2938"
      ]
     },
     "execution_count": 23,
     "metadata": {},
     "output_type": "execute_result"
    }
   ],
   "source": [
    "len(df)"
   ]
  },
  {
   "cell_type": "code",
   "execution_count": 24,
   "metadata": {},
   "outputs": [],
   "source": [
    "X = df_new[['Incomecompositionofresources', 'Alcohol', 'percentageexpenditure']]\n",
    "y = df_new[['Lifeexpectancy']]"
   ]
  },
  {
   "cell_type": "code",
   "execution_count": 25,
   "metadata": {},
   "outputs": [
    {
     "data": {
      "text/plain": [
       "(2584, 2584)"
      ]
     },
     "execution_count": 25,
     "metadata": {},
     "output_type": "execute_result"
    }
   ],
   "source": [
    "len(X), len(y)"
   ]
  },
  {
   "cell_type": "code",
   "execution_count": 26,
   "metadata": {},
   "outputs": [],
   "source": [
    "scaled_X = scaler.fit_transform(X)\n",
    "scaled_y = scaler.fit_transform(y)"
   ]
  },
  {
   "cell_type": "code",
   "execution_count": 27,
   "metadata": {},
   "outputs": [],
   "source": [
    "from sklearn.linear_model import LinearRegression"
   ]
  },
  {
   "cell_type": "code",
   "execution_count": 28,
   "metadata": {},
   "outputs": [],
   "source": [
    "model = LinearRegression()"
   ]
  },
  {
   "cell_type": "code",
   "execution_count": 29,
   "metadata": {},
   "outputs": [
    {
     "data": {
      "text/plain": [
       "LinearRegression(copy_X=True, fit_intercept=True, n_jobs=None, normalize=False)"
      ]
     },
     "execution_count": 29,
     "metadata": {},
     "output_type": "execute_result"
    }
   ],
   "source": [
    "model.fit(scaled_X, scaled_y)"
   ]
  },
  {
   "cell_type": "code",
   "execution_count": 30,
   "metadata": {},
   "outputs": [
    {
     "data": {
      "text/plain": [
       "array([[0.63613152, 0.04290936, 0.14256892]])"
      ]
     },
     "execution_count": 30,
     "metadata": {},
     "output_type": "execute_result"
    }
   ],
   "source": [
    "model.coef_"
   ]
  },
  {
   "cell_type": "code",
   "execution_count": 31,
   "metadata": {},
   "outputs": [
    {
     "data": {
      "text/plain": [
       "array([-4.75190712e-16])"
      ]
     },
     "execution_count": 31,
     "metadata": {},
     "output_type": "execute_result"
    }
   ],
   "source": [
    "model.intercept_"
   ]
  },
  {
   "cell_type": "code",
   "execution_count": 32,
   "metadata": {},
   "outputs": [
    {
     "data": {
      "text/plain": [
       "{'copy_X': True, 'fit_intercept': True, 'n_jobs': None, 'normalize': False}"
      ]
     },
     "execution_count": 32,
     "metadata": {},
     "output_type": "execute_result"
    }
   ],
   "source": [
    "model.get_params()"
   ]
  },
  {
   "cell_type": "code",
   "execution_count": 33,
   "metadata": {},
   "outputs": [],
   "source": [
    "def find_correlation(df, var1, var2, *args):\n",
    "    \"Find the correlation between two variables conditional on other variables.\"\n",
    "    features = [var1, var2]\n",
    "    features.extend(list(args))\n",
    "    df_new = df[features]\n",
    "    df_new = df_new.dropna()\n",
    "    X = df_new.drop(var1, axis=1)\n",
    "    y = df_new[[var1]]\n",
    "    \n",
    "    scaler = StandardScaler()\n",
    "    scaled_X = scaler.fit_transform(X)\n",
    "    scaled_y = scaler.fit_transform(y)\n",
    "    \n",
    "    model = LinearRegression()\n",
    "    model.fit(scaled_X, scaled_y)\n",
    "    return model.coef_[0,0]"
   ]
  },
  {
   "cell_type": "code",
   "execution_count": 34,
   "metadata": {},
   "outputs": [
    {
     "data": {
      "text/plain": [
       "Index(['Country', 'Year', 'Status', 'Lifeexpectancy', 'AdultMortality',\n",
       "       'infantdeaths', 'Alcohol', 'percentageexpenditure', 'HepatitisB',\n",
       "       'Measles', 'BMI', 'under-fivedeaths', 'Polio', 'Totalexpenditure',\n",
       "       'Diphtheria', 'HIV/AIDS', 'GDP', 'Population', 'thinness1-19years',\n",
       "       'thinness5-9years', 'Incomecompositionofresources', 'Schooling'],\n",
       "      dtype='object')"
      ]
     },
     "execution_count": 34,
     "metadata": {},
     "output_type": "execute_result"
    }
   ],
   "source": [
    "df.columns"
   ]
  },
  {
   "cell_type": "code",
   "execution_count": 35,
   "metadata": {},
   "outputs": [
    {
     "data": {
      "text/html": [
       "<div>\n",
       "<style scoped>\n",
       "    .dataframe tbody tr th:only-of-type {\n",
       "        vertical-align: middle;\n",
       "    }\n",
       "\n",
       "    .dataframe tbody tr th {\n",
       "        vertical-align: top;\n",
       "    }\n",
       "\n",
       "    .dataframe thead th {\n",
       "        text-align: right;\n",
       "    }\n",
       "</style>\n",
       "<table border=\"1\" class=\"dataframe\">\n",
       "  <thead>\n",
       "    <tr style=\"text-align: right;\">\n",
       "      <th></th>\n",
       "      <th>Year</th>\n",
       "      <th>Lifeexpectancy</th>\n",
       "      <th>AdultMortality</th>\n",
       "      <th>infantdeaths</th>\n",
       "      <th>Alcohol</th>\n",
       "      <th>percentageexpenditure</th>\n",
       "      <th>HepatitisB</th>\n",
       "      <th>Measles</th>\n",
       "      <th>BMI</th>\n",
       "      <th>under-fivedeaths</th>\n",
       "      <th>Polio</th>\n",
       "      <th>Totalexpenditure</th>\n",
       "      <th>Diphtheria</th>\n",
       "      <th>HIV/AIDS</th>\n",
       "      <th>GDP</th>\n",
       "      <th>Population</th>\n",
       "      <th>thinness1-19years</th>\n",
       "      <th>thinness5-9years</th>\n",
       "      <th>Incomecompositionofresources</th>\n",
       "      <th>Schooling</th>\n",
       "    </tr>\n",
       "  </thead>\n",
       "  <tbody>\n",
       "    <tr>\n",
       "      <th>Year</th>\n",
       "      <td>1.000000</td>\n",
       "      <td>0.170033</td>\n",
       "      <td>-0.079052</td>\n",
       "      <td>-0.037415</td>\n",
       "      <td>-0.052990</td>\n",
       "      <td>0.031400</td>\n",
       "      <td>0.104333</td>\n",
       "      <td>-0.082493</td>\n",
       "      <td>0.108974</td>\n",
       "      <td>-0.042937</td>\n",
       "      <td>0.094158</td>\n",
       "      <td>0.090740</td>\n",
       "      <td>0.134337</td>\n",
       "      <td>-0.139741</td>\n",
       "      <td>0.101620</td>\n",
       "      <td>0.016969</td>\n",
       "      <td>-0.047876</td>\n",
       "      <td>-0.050929</td>\n",
       "      <td>0.243468</td>\n",
       "      <td>0.209400</td>\n",
       "    </tr>\n",
       "    <tr>\n",
       "      <th>Lifeexpectancy</th>\n",
       "      <td>0.170033</td>\n",
       "      <td>1.000000</td>\n",
       "      <td>-0.696359</td>\n",
       "      <td>-0.196557</td>\n",
       "      <td>0.404877</td>\n",
       "      <td>0.381864</td>\n",
       "      <td>0.256762</td>\n",
       "      <td>-0.157586</td>\n",
       "      <td>0.567694</td>\n",
       "      <td>-0.222529</td>\n",
       "      <td>0.465556</td>\n",
       "      <td>0.218086</td>\n",
       "      <td>0.479495</td>\n",
       "      <td>-0.556556</td>\n",
       "      <td>0.461455</td>\n",
       "      <td>-0.021538</td>\n",
       "      <td>-0.477183</td>\n",
       "      <td>-0.471584</td>\n",
       "      <td>0.724776</td>\n",
       "      <td>0.751975</td>\n",
       "    </tr>\n",
       "    <tr>\n",
       "      <th>AdultMortality</th>\n",
       "      <td>-0.079052</td>\n",
       "      <td>-0.696359</td>\n",
       "      <td>1.000000</td>\n",
       "      <td>0.078756</td>\n",
       "      <td>-0.195848</td>\n",
       "      <td>-0.242860</td>\n",
       "      <td>-0.162476</td>\n",
       "      <td>0.031176</td>\n",
       "      <td>-0.387017</td>\n",
       "      <td>0.094146</td>\n",
       "      <td>-0.274823</td>\n",
       "      <td>-0.115281</td>\n",
       "      <td>-0.275131</td>\n",
       "      <td>0.523821</td>\n",
       "      <td>-0.296049</td>\n",
       "      <td>-0.013647</td>\n",
       "      <td>0.302904</td>\n",
       "      <td>0.308457</td>\n",
       "      <td>-0.457626</td>\n",
       "      <td>-0.454612</td>\n",
       "    </tr>\n",
       "    <tr>\n",
       "      <th>infantdeaths</th>\n",
       "      <td>-0.037415</td>\n",
       "      <td>-0.196557</td>\n",
       "      <td>0.078756</td>\n",
       "      <td>1.000000</td>\n",
       "      <td>-0.115638</td>\n",
       "      <td>-0.085612</td>\n",
       "      <td>-0.223566</td>\n",
       "      <td>0.501128</td>\n",
       "      <td>-0.227279</td>\n",
       "      <td>0.996629</td>\n",
       "      <td>-0.170689</td>\n",
       "      <td>-0.128616</td>\n",
       "      <td>-0.175171</td>\n",
       "      <td>0.025231</td>\n",
       "      <td>-0.108427</td>\n",
       "      <td>0.556801</td>\n",
       "      <td>0.465711</td>\n",
       "      <td>0.471350</td>\n",
       "      <td>-0.145139</td>\n",
       "      <td>-0.193720</td>\n",
       "    </tr>\n",
       "    <tr>\n",
       "      <th>Alcohol</th>\n",
       "      <td>-0.052990</td>\n",
       "      <td>0.404877</td>\n",
       "      <td>-0.195848</td>\n",
       "      <td>-0.115638</td>\n",
       "      <td>1.000000</td>\n",
       "      <td>0.341285</td>\n",
       "      <td>0.087549</td>\n",
       "      <td>-0.051827</td>\n",
       "      <td>0.330408</td>\n",
       "      <td>-0.112370</td>\n",
       "      <td>0.221734</td>\n",
       "      <td>0.296942</td>\n",
       "      <td>0.222020</td>\n",
       "      <td>-0.048845</td>\n",
       "      <td>0.354712</td>\n",
       "      <td>-0.035252</td>\n",
       "      <td>-0.428795</td>\n",
       "      <td>-0.417414</td>\n",
       "      <td>0.450040</td>\n",
       "      <td>0.547378</td>\n",
       "    </tr>\n",
       "    <tr>\n",
       "      <th>percentageexpenditure</th>\n",
       "      <td>0.031400</td>\n",
       "      <td>0.381864</td>\n",
       "      <td>-0.242860</td>\n",
       "      <td>-0.085612</td>\n",
       "      <td>0.341285</td>\n",
       "      <td>1.000000</td>\n",
       "      <td>0.016274</td>\n",
       "      <td>-0.056596</td>\n",
       "      <td>0.228700</td>\n",
       "      <td>-0.087852</td>\n",
       "      <td>0.147259</td>\n",
       "      <td>0.174420</td>\n",
       "      <td>0.143624</td>\n",
       "      <td>-0.097857</td>\n",
       "      <td>0.899373</td>\n",
       "      <td>-0.025662</td>\n",
       "      <td>-0.251369</td>\n",
       "      <td>-0.252905</td>\n",
       "      <td>0.381952</td>\n",
       "      <td>0.389687</td>\n",
       "    </tr>\n",
       "    <tr>\n",
       "      <th>HepatitisB</th>\n",
       "      <td>0.104333</td>\n",
       "      <td>0.256762</td>\n",
       "      <td>-0.162476</td>\n",
       "      <td>-0.223566</td>\n",
       "      <td>0.087549</td>\n",
       "      <td>0.016274</td>\n",
       "      <td>1.000000</td>\n",
       "      <td>-0.120529</td>\n",
       "      <td>0.150380</td>\n",
       "      <td>-0.233126</td>\n",
       "      <td>0.486171</td>\n",
       "      <td>0.058280</td>\n",
       "      <td>0.611495</td>\n",
       "      <td>-0.112675</td>\n",
       "      <td>0.083903</td>\n",
       "      <td>-0.123321</td>\n",
       "      <td>-0.120429</td>\n",
       "      <td>-0.124960</td>\n",
       "      <td>0.199549</td>\n",
       "      <td>0.231117</td>\n",
       "    </tr>\n",
       "    <tr>\n",
       "      <th>Measles</th>\n",
       "      <td>-0.082493</td>\n",
       "      <td>-0.157586</td>\n",
       "      <td>0.031176</td>\n",
       "      <td>0.501128</td>\n",
       "      <td>-0.051827</td>\n",
       "      <td>-0.056596</td>\n",
       "      <td>-0.120529</td>\n",
       "      <td>1.000000</td>\n",
       "      <td>-0.175977</td>\n",
       "      <td>0.507809</td>\n",
       "      <td>-0.136166</td>\n",
       "      <td>-0.106241</td>\n",
       "      <td>-0.141882</td>\n",
       "      <td>0.030899</td>\n",
       "      <td>-0.076466</td>\n",
       "      <td>0.265966</td>\n",
       "      <td>0.224808</td>\n",
       "      <td>0.221072</td>\n",
       "      <td>-0.129568</td>\n",
       "      <td>-0.137225</td>\n",
       "    </tr>\n",
       "    <tr>\n",
       "      <th>BMI</th>\n",
       "      <td>0.108974</td>\n",
       "      <td>0.567694</td>\n",
       "      <td>-0.387017</td>\n",
       "      <td>-0.227279</td>\n",
       "      <td>0.330408</td>\n",
       "      <td>0.228700</td>\n",
       "      <td>0.150380</td>\n",
       "      <td>-0.175977</td>\n",
       "      <td>1.000000</td>\n",
       "      <td>-0.237669</td>\n",
       "      <td>0.284569</td>\n",
       "      <td>0.242503</td>\n",
       "      <td>0.283147</td>\n",
       "      <td>-0.243717</td>\n",
       "      <td>0.301557</td>\n",
       "      <td>-0.072301</td>\n",
       "      <td>-0.532025</td>\n",
       "      <td>-0.538911</td>\n",
       "      <td>0.508774</td>\n",
       "      <td>0.546961</td>\n",
       "    </tr>\n",
       "    <tr>\n",
       "      <th>under-fivedeaths</th>\n",
       "      <td>-0.042937</td>\n",
       "      <td>-0.222529</td>\n",
       "      <td>0.094146</td>\n",
       "      <td>0.996629</td>\n",
       "      <td>-0.112370</td>\n",
       "      <td>-0.087852</td>\n",
       "      <td>-0.233126</td>\n",
       "      <td>0.507809</td>\n",
       "      <td>-0.237669</td>\n",
       "      <td>1.000000</td>\n",
       "      <td>-0.188720</td>\n",
       "      <td>-0.130148</td>\n",
       "      <td>-0.195668</td>\n",
       "      <td>0.038062</td>\n",
       "      <td>-0.112081</td>\n",
       "      <td>0.544423</td>\n",
       "      <td>0.467789</td>\n",
       "      <td>0.472263</td>\n",
       "      <td>-0.163305</td>\n",
       "      <td>-0.209373</td>\n",
       "    </tr>\n",
       "    <tr>\n",
       "      <th>Polio</th>\n",
       "      <td>0.094158</td>\n",
       "      <td>0.465556</td>\n",
       "      <td>-0.274823</td>\n",
       "      <td>-0.170689</td>\n",
       "      <td>0.221734</td>\n",
       "      <td>0.147259</td>\n",
       "      <td>0.486171</td>\n",
       "      <td>-0.136166</td>\n",
       "      <td>0.284569</td>\n",
       "      <td>-0.188720</td>\n",
       "      <td>1.000000</td>\n",
       "      <td>0.137330</td>\n",
       "      <td>0.673553</td>\n",
       "      <td>-0.159560</td>\n",
       "      <td>0.211976</td>\n",
       "      <td>-0.038540</td>\n",
       "      <td>-0.221823</td>\n",
       "      <td>-0.222592</td>\n",
       "      <td>0.381078</td>\n",
       "      <td>0.417866</td>\n",
       "    </tr>\n",
       "    <tr>\n",
       "      <th>Totalexpenditure</th>\n",
       "      <td>0.090740</td>\n",
       "      <td>0.218086</td>\n",
       "      <td>-0.115281</td>\n",
       "      <td>-0.128616</td>\n",
       "      <td>0.296942</td>\n",
       "      <td>0.174420</td>\n",
       "      <td>0.058280</td>\n",
       "      <td>-0.106241</td>\n",
       "      <td>0.242503</td>\n",
       "      <td>-0.130148</td>\n",
       "      <td>0.137330</td>\n",
       "      <td>1.000000</td>\n",
       "      <td>0.152754</td>\n",
       "      <td>-0.001389</td>\n",
       "      <td>0.138364</td>\n",
       "      <td>-0.079662</td>\n",
       "      <td>-0.277101</td>\n",
       "      <td>-0.283774</td>\n",
       "      <td>0.166682</td>\n",
       "      <td>0.246384</td>\n",
       "    </tr>\n",
       "    <tr>\n",
       "      <th>Diphtheria</th>\n",
       "      <td>0.134337</td>\n",
       "      <td>0.479495</td>\n",
       "      <td>-0.275131</td>\n",
       "      <td>-0.175171</td>\n",
       "      <td>0.222020</td>\n",
       "      <td>0.143624</td>\n",
       "      <td>0.611495</td>\n",
       "      <td>-0.141882</td>\n",
       "      <td>0.283147</td>\n",
       "      <td>-0.195668</td>\n",
       "      <td>0.673553</td>\n",
       "      <td>0.152754</td>\n",
       "      <td>1.000000</td>\n",
       "      <td>-0.164860</td>\n",
       "      <td>0.200666</td>\n",
       "      <td>-0.028444</td>\n",
       "      <td>-0.229518</td>\n",
       "      <td>-0.222743</td>\n",
       "      <td>0.401456</td>\n",
       "      <td>0.425332</td>\n",
       "    </tr>\n",
       "    <tr>\n",
       "      <th>HIV/AIDS</th>\n",
       "      <td>-0.139741</td>\n",
       "      <td>-0.556556</td>\n",
       "      <td>0.523821</td>\n",
       "      <td>0.025231</td>\n",
       "      <td>-0.048845</td>\n",
       "      <td>-0.097857</td>\n",
       "      <td>-0.112675</td>\n",
       "      <td>0.030899</td>\n",
       "      <td>-0.243717</td>\n",
       "      <td>0.038062</td>\n",
       "      <td>-0.159560</td>\n",
       "      <td>-0.001389</td>\n",
       "      <td>-0.164860</td>\n",
       "      <td>1.000000</td>\n",
       "      <td>-0.136491</td>\n",
       "      <td>-0.027854</td>\n",
       "      <td>0.204064</td>\n",
       "      <td>0.207283</td>\n",
       "      <td>-0.249519</td>\n",
       "      <td>-0.220429</td>\n",
       "    </tr>\n",
       "    <tr>\n",
       "      <th>GDP</th>\n",
       "      <td>0.101620</td>\n",
       "      <td>0.461455</td>\n",
       "      <td>-0.296049</td>\n",
       "      <td>-0.108427</td>\n",
       "      <td>0.354712</td>\n",
       "      <td>0.899373</td>\n",
       "      <td>0.083903</td>\n",
       "      <td>-0.076466</td>\n",
       "      <td>0.301557</td>\n",
       "      <td>-0.112081</td>\n",
       "      <td>0.211976</td>\n",
       "      <td>0.138364</td>\n",
       "      <td>0.200666</td>\n",
       "      <td>-0.136491</td>\n",
       "      <td>1.000000</td>\n",
       "      <td>-0.028270</td>\n",
       "      <td>-0.285697</td>\n",
       "      <td>-0.290539</td>\n",
       "      <td>0.460341</td>\n",
       "      <td>0.448273</td>\n",
       "    </tr>\n",
       "    <tr>\n",
       "      <th>Population</th>\n",
       "      <td>0.016969</td>\n",
       "      <td>-0.021538</td>\n",
       "      <td>-0.013647</td>\n",
       "      <td>0.556801</td>\n",
       "      <td>-0.035252</td>\n",
       "      <td>-0.025662</td>\n",
       "      <td>-0.123321</td>\n",
       "      <td>0.265966</td>\n",
       "      <td>-0.072301</td>\n",
       "      <td>0.544423</td>\n",
       "      <td>-0.038540</td>\n",
       "      <td>-0.079662</td>\n",
       "      <td>-0.028444</td>\n",
       "      <td>-0.027854</td>\n",
       "      <td>-0.028270</td>\n",
       "      <td>1.000000</td>\n",
       "      <td>0.253944</td>\n",
       "      <td>0.251403</td>\n",
       "      <td>-0.008735</td>\n",
       "      <td>-0.031668</td>\n",
       "    </tr>\n",
       "    <tr>\n",
       "      <th>thinness1-19years</th>\n",
       "      <td>-0.047876</td>\n",
       "      <td>-0.477183</td>\n",
       "      <td>0.302904</td>\n",
       "      <td>0.465711</td>\n",
       "      <td>-0.428795</td>\n",
       "      <td>-0.251369</td>\n",
       "      <td>-0.120429</td>\n",
       "      <td>0.224808</td>\n",
       "      <td>-0.532025</td>\n",
       "      <td>0.467789</td>\n",
       "      <td>-0.221823</td>\n",
       "      <td>-0.277101</td>\n",
       "      <td>-0.229518</td>\n",
       "      <td>0.204064</td>\n",
       "      <td>-0.285697</td>\n",
       "      <td>0.253944</td>\n",
       "      <td>1.000000</td>\n",
       "      <td>0.939102</td>\n",
       "      <td>-0.422429</td>\n",
       "      <td>-0.471652</td>\n",
       "    </tr>\n",
       "    <tr>\n",
       "      <th>thinness5-9years</th>\n",
       "      <td>-0.050929</td>\n",
       "      <td>-0.471584</td>\n",
       "      <td>0.308457</td>\n",
       "      <td>0.471350</td>\n",
       "      <td>-0.417414</td>\n",
       "      <td>-0.252905</td>\n",
       "      <td>-0.124960</td>\n",
       "      <td>0.221072</td>\n",
       "      <td>-0.538911</td>\n",
       "      <td>0.472263</td>\n",
       "      <td>-0.222592</td>\n",
       "      <td>-0.283774</td>\n",
       "      <td>-0.222743</td>\n",
       "      <td>0.207283</td>\n",
       "      <td>-0.290539</td>\n",
       "      <td>0.251403</td>\n",
       "      <td>0.939102</td>\n",
       "      <td>1.000000</td>\n",
       "      <td>-0.411053</td>\n",
       "      <td>-0.460632</td>\n",
       "    </tr>\n",
       "    <tr>\n",
       "      <th>Incomecompositionofresources</th>\n",
       "      <td>0.243468</td>\n",
       "      <td>0.724776</td>\n",
       "      <td>-0.457626</td>\n",
       "      <td>-0.145139</td>\n",
       "      <td>0.450040</td>\n",
       "      <td>0.381952</td>\n",
       "      <td>0.199549</td>\n",
       "      <td>-0.129568</td>\n",
       "      <td>0.508774</td>\n",
       "      <td>-0.163305</td>\n",
       "      <td>0.381078</td>\n",
       "      <td>0.166682</td>\n",
       "      <td>0.401456</td>\n",
       "      <td>-0.249519</td>\n",
       "      <td>0.460341</td>\n",
       "      <td>-0.008735</td>\n",
       "      <td>-0.422429</td>\n",
       "      <td>-0.411053</td>\n",
       "      <td>1.000000</td>\n",
       "      <td>0.800092</td>\n",
       "    </tr>\n",
       "    <tr>\n",
       "      <th>Schooling</th>\n",
       "      <td>0.209400</td>\n",
       "      <td>0.751975</td>\n",
       "      <td>-0.454612</td>\n",
       "      <td>-0.193720</td>\n",
       "      <td>0.547378</td>\n",
       "      <td>0.389687</td>\n",
       "      <td>0.231117</td>\n",
       "      <td>-0.137225</td>\n",
       "      <td>0.546961</td>\n",
       "      <td>-0.209373</td>\n",
       "      <td>0.417866</td>\n",
       "      <td>0.246384</td>\n",
       "      <td>0.425332</td>\n",
       "      <td>-0.220429</td>\n",
       "      <td>0.448273</td>\n",
       "      <td>-0.031668</td>\n",
       "      <td>-0.471652</td>\n",
       "      <td>-0.460632</td>\n",
       "      <td>0.800092</td>\n",
       "      <td>1.000000</td>\n",
       "    </tr>\n",
       "  </tbody>\n",
       "</table>\n",
       "</div>"
      ],
      "text/plain": [
       "                                  Year  Lifeexpectancy  AdultMortality  \\\n",
       "Year                          1.000000        0.170033       -0.079052   \n",
       "Lifeexpectancy                0.170033        1.000000       -0.696359   \n",
       "AdultMortality               -0.079052       -0.696359        1.000000   \n",
       "infantdeaths                 -0.037415       -0.196557        0.078756   \n",
       "Alcohol                      -0.052990        0.404877       -0.195848   \n",
       "percentageexpenditure         0.031400        0.381864       -0.242860   \n",
       "HepatitisB                    0.104333        0.256762       -0.162476   \n",
       "Measles                      -0.082493       -0.157586        0.031176   \n",
       "BMI                           0.108974        0.567694       -0.387017   \n",
       "under-fivedeaths             -0.042937       -0.222529        0.094146   \n",
       "Polio                         0.094158        0.465556       -0.274823   \n",
       "Totalexpenditure              0.090740        0.218086       -0.115281   \n",
       "Diphtheria                    0.134337        0.479495       -0.275131   \n",
       "HIV/AIDS                     -0.139741       -0.556556        0.523821   \n",
       "GDP                           0.101620        0.461455       -0.296049   \n",
       "Population                    0.016969       -0.021538       -0.013647   \n",
       "thinness1-19years            -0.047876       -0.477183        0.302904   \n",
       "thinness5-9years             -0.050929       -0.471584        0.308457   \n",
       "Incomecompositionofresources  0.243468        0.724776       -0.457626   \n",
       "Schooling                     0.209400        0.751975       -0.454612   \n",
       "\n",
       "                              infantdeaths   Alcohol  percentageexpenditure  \\\n",
       "Year                             -0.037415 -0.052990               0.031400   \n",
       "Lifeexpectancy                   -0.196557  0.404877               0.381864   \n",
       "AdultMortality                    0.078756 -0.195848              -0.242860   \n",
       "infantdeaths                      1.000000 -0.115638              -0.085612   \n",
       "Alcohol                          -0.115638  1.000000               0.341285   \n",
       "percentageexpenditure            -0.085612  0.341285               1.000000   \n",
       "HepatitisB                       -0.223566  0.087549               0.016274   \n",
       "Measles                           0.501128 -0.051827              -0.056596   \n",
       "BMI                              -0.227279  0.330408               0.228700   \n",
       "under-fivedeaths                  0.996629 -0.112370              -0.087852   \n",
       "Polio                            -0.170689  0.221734               0.147259   \n",
       "Totalexpenditure                 -0.128616  0.296942               0.174420   \n",
       "Diphtheria                       -0.175171  0.222020               0.143624   \n",
       "HIV/AIDS                          0.025231 -0.048845              -0.097857   \n",
       "GDP                              -0.108427  0.354712               0.899373   \n",
       "Population                        0.556801 -0.035252              -0.025662   \n",
       "thinness1-19years                 0.465711 -0.428795              -0.251369   \n",
       "thinness5-9years                  0.471350 -0.417414              -0.252905   \n",
       "Incomecompositionofresources     -0.145139  0.450040               0.381952   \n",
       "Schooling                        -0.193720  0.547378               0.389687   \n",
       "\n",
       "                              HepatitisB   Measles       BMI  \\\n",
       "Year                            0.104333 -0.082493  0.108974   \n",
       "Lifeexpectancy                  0.256762 -0.157586  0.567694   \n",
       "AdultMortality                 -0.162476  0.031176 -0.387017   \n",
       "infantdeaths                   -0.223566  0.501128 -0.227279   \n",
       "Alcohol                         0.087549 -0.051827  0.330408   \n",
       "percentageexpenditure           0.016274 -0.056596  0.228700   \n",
       "HepatitisB                      1.000000 -0.120529  0.150380   \n",
       "Measles                        -0.120529  1.000000 -0.175977   \n",
       "BMI                             0.150380 -0.175977  1.000000   \n",
       "under-fivedeaths               -0.233126  0.507809 -0.237669   \n",
       "Polio                           0.486171 -0.136166  0.284569   \n",
       "Totalexpenditure                0.058280 -0.106241  0.242503   \n",
       "Diphtheria                      0.611495 -0.141882  0.283147   \n",
       "HIV/AIDS                       -0.112675  0.030899 -0.243717   \n",
       "GDP                             0.083903 -0.076466  0.301557   \n",
       "Population                     -0.123321  0.265966 -0.072301   \n",
       "thinness1-19years              -0.120429  0.224808 -0.532025   \n",
       "thinness5-9years               -0.124960  0.221072 -0.538911   \n",
       "Incomecompositionofresources    0.199549 -0.129568  0.508774   \n",
       "Schooling                       0.231117 -0.137225  0.546961   \n",
       "\n",
       "                              under-fivedeaths     Polio  Totalexpenditure  \\\n",
       "Year                                 -0.042937  0.094158          0.090740   \n",
       "Lifeexpectancy                       -0.222529  0.465556          0.218086   \n",
       "AdultMortality                        0.094146 -0.274823         -0.115281   \n",
       "infantdeaths                          0.996629 -0.170689         -0.128616   \n",
       "Alcohol                              -0.112370  0.221734          0.296942   \n",
       "percentageexpenditure                -0.087852  0.147259          0.174420   \n",
       "HepatitisB                           -0.233126  0.486171          0.058280   \n",
       "Measles                               0.507809 -0.136166         -0.106241   \n",
       "BMI                                  -0.237669  0.284569          0.242503   \n",
       "under-fivedeaths                      1.000000 -0.188720         -0.130148   \n",
       "Polio                                -0.188720  1.000000          0.137330   \n",
       "Totalexpenditure                     -0.130148  0.137330          1.000000   \n",
       "Diphtheria                           -0.195668  0.673553          0.152754   \n",
       "HIV/AIDS                              0.038062 -0.159560         -0.001389   \n",
       "GDP                                  -0.112081  0.211976          0.138364   \n",
       "Population                            0.544423 -0.038540         -0.079662   \n",
       "thinness1-19years                     0.467789 -0.221823         -0.277101   \n",
       "thinness5-9years                      0.472263 -0.222592         -0.283774   \n",
       "Incomecompositionofresources         -0.163305  0.381078          0.166682   \n",
       "Schooling                            -0.209373  0.417866          0.246384   \n",
       "\n",
       "                              Diphtheria  HIV/AIDS       GDP  Population  \\\n",
       "Year                            0.134337 -0.139741  0.101620    0.016969   \n",
       "Lifeexpectancy                  0.479495 -0.556556  0.461455   -0.021538   \n",
       "AdultMortality                 -0.275131  0.523821 -0.296049   -0.013647   \n",
       "infantdeaths                   -0.175171  0.025231 -0.108427    0.556801   \n",
       "Alcohol                         0.222020 -0.048845  0.354712   -0.035252   \n",
       "percentageexpenditure           0.143624 -0.097857  0.899373   -0.025662   \n",
       "HepatitisB                      0.611495 -0.112675  0.083903   -0.123321   \n",
       "Measles                        -0.141882  0.030899 -0.076466    0.265966   \n",
       "BMI                             0.283147 -0.243717  0.301557   -0.072301   \n",
       "under-fivedeaths               -0.195668  0.038062 -0.112081    0.544423   \n",
       "Polio                           0.673553 -0.159560  0.211976   -0.038540   \n",
       "Totalexpenditure                0.152754 -0.001389  0.138364   -0.079662   \n",
       "Diphtheria                      1.000000 -0.164860  0.200666   -0.028444   \n",
       "HIV/AIDS                       -0.164860  1.000000 -0.136491   -0.027854   \n",
       "GDP                             0.200666 -0.136491  1.000000   -0.028270   \n",
       "Population                     -0.028444 -0.027854 -0.028270    1.000000   \n",
       "thinness1-19years              -0.229518  0.204064 -0.285697    0.253944   \n",
       "thinness5-9years               -0.222743  0.207283 -0.290539    0.251403   \n",
       "Incomecompositionofresources    0.401456 -0.249519  0.460341   -0.008735   \n",
       "Schooling                       0.425332 -0.220429  0.448273   -0.031668   \n",
       "\n",
       "                              thinness1-19years  thinness5-9years  \\\n",
       "Year                                  -0.047876         -0.050929   \n",
       "Lifeexpectancy                        -0.477183         -0.471584   \n",
       "AdultMortality                         0.302904          0.308457   \n",
       "infantdeaths                           0.465711          0.471350   \n",
       "Alcohol                               -0.428795         -0.417414   \n",
       "percentageexpenditure                 -0.251369         -0.252905   \n",
       "HepatitisB                            -0.120429         -0.124960   \n",
       "Measles                                0.224808          0.221072   \n",
       "BMI                                   -0.532025         -0.538911   \n",
       "under-fivedeaths                       0.467789          0.472263   \n",
       "Polio                                 -0.221823         -0.222592   \n",
       "Totalexpenditure                      -0.277101         -0.283774   \n",
       "Diphtheria                            -0.229518         -0.222743   \n",
       "HIV/AIDS                               0.204064          0.207283   \n",
       "GDP                                   -0.285697         -0.290539   \n",
       "Population                             0.253944          0.251403   \n",
       "thinness1-19years                      1.000000          0.939102   \n",
       "thinness5-9years                       0.939102          1.000000   \n",
       "Incomecompositionofresources          -0.422429         -0.411053   \n",
       "Schooling                             -0.471652         -0.460632   \n",
       "\n",
       "                              Incomecompositionofresources  Schooling  \n",
       "Year                                              0.243468   0.209400  \n",
       "Lifeexpectancy                                    0.724776   0.751975  \n",
       "AdultMortality                                   -0.457626  -0.454612  \n",
       "infantdeaths                                     -0.145139  -0.193720  \n",
       "Alcohol                                           0.450040   0.547378  \n",
       "percentageexpenditure                             0.381952   0.389687  \n",
       "HepatitisB                                        0.199549   0.231117  \n",
       "Measles                                          -0.129568  -0.137225  \n",
       "BMI                                               0.508774   0.546961  \n",
       "under-fivedeaths                                 -0.163305  -0.209373  \n",
       "Polio                                             0.381078   0.417866  \n",
       "Totalexpenditure                                  0.166682   0.246384  \n",
       "Diphtheria                                        0.401456   0.425332  \n",
       "HIV/AIDS                                         -0.249519  -0.220429  \n",
       "GDP                                               0.460341   0.448273  \n",
       "Population                                       -0.008735  -0.031668  \n",
       "thinness1-19years                                -0.422429  -0.471652  \n",
       "thinness5-9years                                 -0.411053  -0.460632  \n",
       "Incomecompositionofresources                      1.000000   0.800092  \n",
       "Schooling                                         0.800092   1.000000  "
      ]
     },
     "execution_count": 35,
     "metadata": {},
     "output_type": "execute_result"
    }
   ],
   "source": [
    "df.corr()"
   ]
  },
  {
   "cell_type": "code",
   "execution_count": 36,
   "metadata": {},
   "outputs": [
    {
     "data": {
      "text/plain": [
       "0.01801152928899941"
      ]
     },
     "execution_count": 36,
     "metadata": {},
     "output_type": "execute_result"
    }
   ],
   "source": [
    "find_correlation(df[df['Status']=='Developing'], 'Lifeexpectancy', 'GDP', 'percentageexpenditure', 'Totalexpenditure', 'Alcohol', 'Schooling', 'BMI', 'AdultMortality', 'infantdeaths', 'under-fivedeaths', 'HepatitisB',\n",
    "       'Measles', 'BMI', 'Polio', 'Diphtheria', 'HIV/AIDS', 'thinness1-19years', 'thinness5-9years', 'Population')"
   ]
  },
  {
   "cell_type": "code",
   "execution_count": 37,
   "metadata": {},
   "outputs": [
    {
     "data": {
      "text/plain": [
       "0.7247759785960601"
      ]
     },
     "execution_count": 37,
     "metadata": {},
     "output_type": "execute_result"
    }
   ],
   "source": [
    "df.corr().loc['Lifeexpectancy', 'Incomecompositionofresources']"
   ]
  },
  {
   "cell_type": "code",
   "execution_count": 38,
   "metadata": {},
   "outputs": [
    {
     "data": {
      "text/plain": [
       "0.7247759785960608"
      ]
     },
     "execution_count": 38,
     "metadata": {},
     "output_type": "execute_result"
    }
   ],
   "source": [
    "find_correlation(df, 'Lifeexpectancy', 'Incomecompositionofresources')"
   ]
  },
  {
   "cell_type": "code",
   "execution_count": 39,
   "metadata": {},
   "outputs": [
    {
     "data": {
      "text/plain": [
       "0.7247759785960615"
      ]
     },
     "execution_count": 39,
     "metadata": {},
     "output_type": "execute_result"
    }
   ],
   "source": [
    "find_correlation(df, 'Incomecompositionofresources', 'Lifeexpectancy')"
   ]
  },
  {
   "cell_type": "code",
   "execution_count": 40,
   "metadata": {},
   "outputs": [
    {
     "data": {
      "text/plain": [
       "0.6070424319729119"
      ]
     },
     "execution_count": 40,
     "metadata": {},
     "output_type": "execute_result"
    }
   ],
   "source": [
    "find_correlation(df, 'Incomecompositionofresources', 'Lifeexpectancy', 'Alcohol', 'percentageexpenditure')"
   ]
  },
  {
   "cell_type": "code",
   "execution_count": 41,
   "metadata": {},
   "outputs": [
    {
     "data": {
      "text/plain": [
       "Index(['Country', 'Year', 'Status', 'Lifeexpectancy', 'AdultMortality',\n",
       "       'infantdeaths', 'Alcohol', 'percentageexpenditure', 'HepatitisB',\n",
       "       'Measles', 'BMI', 'under-fivedeaths', 'Polio', 'Totalexpenditure',\n",
       "       'Diphtheria', 'HIV/AIDS', 'GDP', 'Population', 'thinness1-19years',\n",
       "       'thinness5-9years', 'Incomecompositionofresources', 'Schooling'],\n",
       "      dtype='object')"
      ]
     },
     "execution_count": 41,
     "metadata": {},
     "output_type": "execute_result"
    }
   ],
   "source": [
    "df.columns"
   ]
  },
  {
   "cell_type": "code",
   "execution_count": 42,
   "metadata": {},
   "outputs": [
    {
     "data": {
      "text/plain": [
       "0.07783805020654073"
      ]
     },
     "execution_count": 42,
     "metadata": {},
     "output_type": "execute_result"
    }
   ],
   "source": [
    "find_correlation(df[df['Status']=='Developed'], 'Lifeexpectancy', 'GDP', 'percentageexpenditure', 'Totalexpenditure', 'Alcohol')"
   ]
  },
  {
   "cell_type": "code",
   "execution_count": 43,
   "metadata": {},
   "outputs": [
    {
     "data": {
      "text/plain": [
       "Index(['Country', 'Year', 'Status', 'Lifeexpectancy', 'AdultMortality',\n",
       "       'infantdeaths', 'Alcohol', 'percentageexpenditure', 'HepatitisB',\n",
       "       'Measles', 'BMI', 'under-fivedeaths', 'Polio', 'Totalexpenditure',\n",
       "       'Diphtheria', 'HIV/AIDS', 'GDP', 'Population', 'thinness1-19years',\n",
       "       'thinness5-9years', 'Incomecompositionofresources', 'Schooling'],\n",
       "      dtype='object')"
      ]
     },
     "execution_count": 43,
     "metadata": {},
     "output_type": "execute_result"
    }
   ],
   "source": [
    "df.columns"
   ]
  },
  {
   "cell_type": "code",
   "execution_count": 44,
   "metadata": {},
   "outputs": [],
   "source": [
    "df['ChildrenMortality'] = (df['infantdeaths'] + df['under-fivedeaths'])/2"
   ]
  },
  {
   "cell_type": "code",
   "execution_count": 45,
   "metadata": {},
   "outputs": [
    {
     "data": {
      "image/png": "[encoded data removed]",
      "text/plain": [
       "<Figure size 432x288 with 1 Axes>"
      ]
     },
     "metadata": {
      "needs_background": "light"
     },
     "output_type": "display_data"
    }
   ],
   "source": [
    "sns.histplot(data=df, x='Lifeexpectancy');"
   ]
  },
  {
   "cell_type": "code",
   "execution_count": 46,
   "metadata": {},
   "outputs": [
    {
     "data": {
      "image/png": "[encoded data removed]",
      "text/plain": [
       "<Figure size 432x288 with 1 Axes>"
      ]
     },
     "metadata": {
      "needs_background": "light"
     },
     "output_type": "display_data"
    }
   ],
   "source": [
    "sns.scatterplot(data=df, x='AdultMortality', y='Lifeexpectancy', hue='ChildrenMortality');"
   ]
  },
  {
   "cell_type": "code",
   "execution_count": 47,
   "metadata": {},
   "outputs": [
    {
     "data": {
      "image/png": "[encoded data removed]",
      "text/plain": [
       "<Figure size 432x288 with 1 Axes>"
      ]
     },
     "metadata": {
      "needs_background": "light"
     },
     "output_type": "display_data"
    }
   ],
   "source": [
    "sns.scatterplot(data=df, x='Alcohol', y='Lifeexpectancy', hue='Status');"
   ]
  },
  {
   "cell_type": "code",
   "execution_count": 48,
   "metadata": {},
   "outputs": [
    {
     "data": {
      "text/plain": [
       "0.4048767611266013"
      ]
     },
     "execution_count": 48,
     "metadata": {},
     "output_type": "execute_result"
    }
   ],
   "source": [
    "df.corr().loc['Alcohol', 'Lifeexpectancy']"
   ]
  },
  {
   "cell_type": "code",
   "execution_count": 49,
   "metadata": {},
   "outputs": [
    {
     "data": {
      "text/plain": [
       "0.203429015205791"
      ]
     },
     "execution_count": 49,
     "metadata": {},
     "output_type": "execute_result"
    }
   ],
   "source": [
    "df[df['Status']=='Developing'].corr().loc['Alcohol', 'Lifeexpectancy']"
   ]
  },
  {
   "cell_type": "code",
   "execution_count": 50,
   "metadata": {},
   "outputs": [
    {
     "data": {
      "text/plain": [
       "-0.2877693621506767"
      ]
     },
     "execution_count": 50,
     "metadata": {},
     "output_type": "execute_result"
    }
   ],
   "source": [
    "df[df['Status']=='Developed'].corr().loc['Alcohol', 'Lifeexpectancy']"
   ]
  },
  {
   "cell_type": "code",
   "execution_count": 51,
   "metadata": {},
   "outputs": [
    {
     "data": {
      "text/plain": [
       "0.11782875339281906"
      ]
     },
     "execution_count": 51,
     "metadata": {},
     "output_type": "execute_result"
    }
   ],
   "source": [
    "df[df['Status']=='Developing'].corr().loc['Alcohol', 'Lifeexpectancy'] * len(df[df['Status']=='Developing'])/len(df) + df[df['Status']=='Developed'].corr().loc['Alcohol', 'Lifeexpectancy'] * len(df[df['Status']=='Developed'])/len(df)"
   ]
  },
  {
   "cell_type": "code",
   "execution_count": 52,
   "metadata": {},
   "outputs": [
    {
     "data": {
      "image/png": "[encoded data removed]",
      "text/plain": [
       "<Figure size 432x288 with 1 Axes>"
      ]
     },
     "metadata": {
      "needs_background": "light"
     },
     "output_type": "display_data"
    }
   ],
   "source": [
    "sns.histplot(data=df, x='percentageexpenditure');"
   ]
  },
  {
   "cell_type": "code",
   "execution_count": 53,
   "metadata": {},
   "outputs": [
    {
     "data": {
      "image/png": "[encoded data removed]",
      "text/plain": [
       "<Figure size 432x288 with 1 Axes>"
      ]
     },
     "metadata": {
      "needs_background": "light"
     },
     "output_type": "display_data"
    }
   ],
   "source": [
    "sns.scatterplot(data=df, x='GDP', y='percentageexpenditure');"
   ]
  },
  {
   "cell_type": "markdown",
   "metadata": {},
   "source": [
    "Next steps:  \n",
    "- more EDA  \n",
    "- clarify the relations between the variables, construct the correct causal diagram\n",
    "- identify interventions that would increase the life expectancy and quantify them  \n",
    "- construct an algorithm that predicts the life expectancy based on the other features"
   ]
  },
  {
   "cell_type": "code",
   "execution_count": 56,
   "metadata": {},
   "outputs": [
    {
     "data": {
      "text/plain": [
       "array(['Afghanistan', 'Albania', 'Algeria', 'Angola', 'AntiguaandBarbuda',\n",
       "       'Argentina', 'Armenia', 'Australia', 'Austria', 'Azerbaijan',\n",
       "       'Bahamas', 'Bahrain', 'Bangladesh', 'Barbados', 'Belarus',\n",
       "       'Belgium', 'Belize', 'Benin', 'Bhutan',\n",
       "       'Bolivia(PlurinationalStateof)', 'BosniaandHerzegovina',\n",
       "       'Botswana', 'Brazil', 'BruneiDarussalam', 'Bulgaria',\n",
       "       'BurkinaFaso', 'Burundi', \"Côted'Ivoire\", 'CaboVerde', 'Cambodia',\n",
       "       'Cameroon', 'Canada', 'CentralAfricanRepublic', 'Chad', 'Chile',\n",
       "       'China', 'Colombia', 'Comoros', 'Congo', 'CookIslands',\n",
       "       'CostaRica', 'Croatia', 'Cuba', 'Cyprus', 'Czechia',\n",
       "       \"DemocraticPeople'sRepublicofKorea\",\n",
       "       'DemocraticRepublicoftheCongo', 'Denmark', 'Djibouti', 'Dominica',\n",
       "       'DominicanRepublic', 'Ecuador', 'Egypt', 'ElSalvador',\n",
       "       'EquatorialGuinea', 'Eritrea', 'Estonia', 'Ethiopia', 'Fiji',\n",
       "       'Finland', 'France', 'Gabon', 'Gambia', 'Georgia', 'Germany',\n",
       "       'Ghana', 'Greece', 'Grenada', 'Guatemala', 'Guinea',\n",
       "       'Guinea-Bissau', 'Guyana', 'Haiti', 'Honduras', 'Hungary',\n",
       "       'Iceland', 'India', 'Indonesia', 'Iran(IslamicRepublicof)', 'Iraq',\n",
       "       'Ireland', 'Israel', 'Italy', 'Jamaica', 'Japan', 'Jordan',\n",
       "       'Kazakhstan', 'Kenya', 'Kiribati', 'Kuwait', 'Kyrgyzstan',\n",
       "       \"LaoPeople'sDemocraticRepublic\", 'Latvia', 'Lebanon', 'Lesotho',\n",
       "       'Liberia', 'Libya', 'Lithuania', 'Luxembourg', 'Madagascar',\n",
       "       'Malawi', 'Malaysia', 'Maldives', 'Mali', 'Malta',\n",
       "       'MarshallIslands', 'Mauritania', 'Mauritius', 'Mexico',\n",
       "       'Micronesia(FederatedStatesof)', 'Monaco', 'Mongolia',\n",
       "       'Montenegro', 'Morocco', 'Mozambique', 'Myanmar', 'Namibia',\n",
       "       'Nauru', 'Nepal', 'Netherlands', 'NewZealand', 'Nicaragua',\n",
       "       'Niger', 'Nigeria', 'Niue', 'Norway', 'Oman', 'Pakistan', 'Palau',\n",
       "       'Panama', 'PapuaNewGuinea', 'Paraguay', 'Peru', 'Philippines',\n",
       "       'Poland', 'Portugal', 'Qatar', 'RepublicofKorea',\n",
       "       'RepublicofMoldova', 'Romania', 'RussianFederation', 'Rwanda',\n",
       "       'SaintKittsandNevis', 'SaintLucia', 'SaintVincentandtheGrenadines',\n",
       "       'Samoa', 'SanMarino', 'SaoTomeandPrincipe', 'SaudiArabia',\n",
       "       'Senegal', 'Serbia', 'Seychelles', 'SierraLeone', 'Singapore',\n",
       "       'Slovakia', 'Slovenia', 'SolomonIslands', 'Somalia', 'SouthAfrica',\n",
       "       'SouthSudan', 'Spain', 'SriLanka', 'Sudan', 'Suriname',\n",
       "       'Swaziland', 'Sweden', 'Switzerland', 'SyrianArabRepublic',\n",
       "       'Tajikistan', 'Thailand', 'TheformerYugoslavrepublicofMacedonia',\n",
       "       'Timor-Leste', 'Togo', 'Tonga', 'TrinidadandTobago', 'Tunisia',\n",
       "       'Turkey', 'Turkmenistan', 'Tuvalu', 'Uganda', 'Ukraine',\n",
       "       'UnitedArabEmirates',\n",
       "       'UnitedKingdomofGreatBritainandNorthernIreland',\n",
       "       'UnitedRepublicofTanzania', 'UnitedStatesofAmerica', 'Uruguay',\n",
       "       'Uzbekistan', 'Vanuatu', 'Venezuela(BolivarianRepublicof)',\n",
       "       'VietNam', 'Yemen', 'Zambia', 'Zimbabwe'], dtype=object)"
      ]
     },
     "execution_count": 56,
     "metadata": {},
     "output_type": "execute_result"
    }
   ],
   "source": [
    "df['Country'].unique()"
   ]
  },
  {
   "cell_type": "code",
   "execution_count": 61,
   "metadata": {},
   "outputs": [
    {
     "data": {
      "text/html": [
       "<div>\n",
       "<style scoped>\n",
       "    .dataframe tbody tr th:only-of-type {\n",
       "        vertical-align: middle;\n",
       "    }\n",
       "\n",
       "    .dataframe tbody tr th {\n",
       "        vertical-align: top;\n",
       "    }\n",
       "\n",
       "    .dataframe thead th {\n",
       "        text-align: right;\n",
       "    }\n",
       "</style>\n",
       "<table border=\"1\" class=\"dataframe\">\n",
       "  <thead>\n",
       "    <tr style=\"text-align: right;\">\n",
       "      <th></th>\n",
       "      <th>Year</th>\n",
       "      <th>Schooling</th>\n",
       "    </tr>\n",
       "  </thead>\n",
       "  <tbody>\n",
       "    <tr>\n",
       "      <th>994</th>\n",
       "      <td>2015</td>\n",
       "      <td>17.1</td>\n",
       "    </tr>\n",
       "    <tr>\n",
       "      <th>995</th>\n",
       "      <td>2014</td>\n",
       "      <td>17.0</td>\n",
       "    </tr>\n",
       "    <tr>\n",
       "      <th>996</th>\n",
       "      <td>2013</td>\n",
       "      <td>16.9</td>\n",
       "    </tr>\n",
       "    <tr>\n",
       "      <th>997</th>\n",
       "      <td>2012</td>\n",
       "      <td>16.9</td>\n",
       "    </tr>\n",
       "    <tr>\n",
       "      <th>998</th>\n",
       "      <td>2011</td>\n",
       "      <td>16.8</td>\n",
       "    </tr>\n",
       "    <tr>\n",
       "      <th>999</th>\n",
       "      <td>2010</td>\n",
       "      <td>16.7</td>\n",
       "    </tr>\n",
       "    <tr>\n",
       "      <th>1000</th>\n",
       "      <td>2009</td>\n",
       "      <td>16.7</td>\n",
       "    </tr>\n",
       "    <tr>\n",
       "      <th>1001</th>\n",
       "      <td>2008</td>\n",
       "      <td>16.6</td>\n",
       "    </tr>\n",
       "    <tr>\n",
       "      <th>1002</th>\n",
       "      <td>2007</td>\n",
       "      <td>16.6</td>\n",
       "    </tr>\n",
       "    <tr>\n",
       "      <th>1003</th>\n",
       "      <td>2006</td>\n",
       "      <td>16.5</td>\n",
       "    </tr>\n",
       "    <tr>\n",
       "      <th>1004</th>\n",
       "      <td>2005</td>\n",
       "      <td>16.4</td>\n",
       "    </tr>\n",
       "    <tr>\n",
       "      <th>1005</th>\n",
       "      <td>2004</td>\n",
       "      <td>16.4</td>\n",
       "    </tr>\n",
       "    <tr>\n",
       "      <th>1006</th>\n",
       "      <td>2003</td>\n",
       "      <td>16.3</td>\n",
       "    </tr>\n",
       "    <tr>\n",
       "      <th>1007</th>\n",
       "      <td>2002</td>\n",
       "      <td>16.3</td>\n",
       "    </tr>\n",
       "    <tr>\n",
       "      <th>1008</th>\n",
       "      <td>2001</td>\n",
       "      <td>16.2</td>\n",
       "    </tr>\n",
       "    <tr>\n",
       "      <th>1009</th>\n",
       "      <td>2000</td>\n",
       "      <td>16.2</td>\n",
       "    </tr>\n",
       "  </tbody>\n",
       "</table>\n",
       "</div>"
      ],
      "text/plain": [
       "      Year  Schooling\n",
       "994   2015       17.1\n",
       "995   2014       17.0\n",
       "996   2013       16.9\n",
       "997   2012       16.9\n",
       "998   2011       16.8\n",
       "999   2010       16.7\n",
       "1000  2009       16.7\n",
       "1001  2008       16.6\n",
       "1002  2007       16.6\n",
       "1003  2006       16.5\n",
       "1004  2005       16.4\n",
       "1005  2004       16.4\n",
       "1006  2003       16.3\n",
       "1007  2002       16.3\n",
       "1008  2001       16.2\n",
       "1009  2000       16.2"
      ]
     },
     "execution_count": 61,
     "metadata": {},
     "output_type": "execute_result"
    }
   ],
   "source": [
    "df[df['Country']=='Germany'][['Year', 'Schooling']]"
   ]
  },
  {
   "cell_type": "code",
   "execution_count": null,
   "metadata": {},
   "outputs": [],
   "source": [
    "df['Mortality'] = df['AdultMortality']/1000 * len(df[df['']==])"
   ]
  },
  {
   "cell_type": "code",
   "execution_count": 62,
   "metadata": {},
   "outputs": [
    {
     "data": {
      "text/plain": [
       "Index(['Country', 'Year', 'Status', 'Lifeexpectancy', 'AdultMortality',\n",
       "       'infantdeaths', 'Alcohol', 'percentageexpenditure', 'HepatitisB',\n",
       "       'Measles', 'BMI', 'under-fivedeaths', 'Polio', 'Totalexpenditure',\n",
       "       'Diphtheria', 'HIV/AIDS', 'GDP', 'Population', 'thinness1-19years',\n",
       "       'thinness5-9years', 'Incomecompositionofresources', 'Schooling',\n",
       "       'ChildrenMortality'],\n",
       "      dtype='object')"
      ]
     },
     "execution_count": 62,
     "metadata": {},
     "output_type": "execute_result"
    }
   ],
   "source": [
    "df.columns"
   ]
  },
  {
   "cell_type": "code",
   "execution_count": 63,
   "metadata": {},
   "outputs": [
    {
     "data": {
      "text/plain": [
       "0.24250260422170777"
      ]
     },
     "execution_count": 63,
     "metadata": {},
     "output_type": "execute_result"
    }
   ],
   "source": [
    "find_correlation(df, 'BMI', 'Totalexpenditure')"
   ]
  },
  {
   "cell_type": "code",
   "execution_count": 64,
   "metadata": {},
   "outputs": [
    {
     "data": {
      "text/plain": [
       "0.16258392284888035"
      ]
     },
     "execution_count": 64,
     "metadata": {},
     "output_type": "execute_result"
    }
   ],
   "source": [
    "find_correlation(df, 'BMI', 'Totalexpenditure', 'GDP')"
   ]
  },
  {
   "cell_type": "code",
   "execution_count": 65,
   "metadata": {},
   "outputs": [
    {
     "data": {
      "text/plain": [
       "0.4614551926207383"
      ]
     },
     "execution_count": 65,
     "metadata": {},
     "output_type": "execute_result"
    }
   ],
   "source": [
    "find_correlation(df, 'Lifeexpectancy', 'GDP')"
   ]
  },
  {
   "cell_type": "code",
   "execution_count": 66,
   "metadata": {},
   "outputs": [
    {
     "data": {
      "text/plain": [
       "0.27213570815244725"
      ]
     },
     "execution_count": 66,
     "metadata": {},
     "output_type": "execute_result"
    }
   ],
   "source": [
    "find_correlation(df, 'Lifeexpectancy', 'GDP', 'AdultMortality', 'infantdeaths', 'under-fivedeaths')"
   ]
  },
  {
   "cell_type": "code",
   "execution_count": 77,
   "metadata": {},
   "outputs": [
    {
     "data": {
      "text/plain": [
       "0.0296949028417273"
      ]
     },
     "execution_count": 77,
     "metadata": {},
     "output_type": "execute_result"
    }
   ],
   "source": [
    "find_correlation(df, 'Lifeexpectancy', 'GDP', 'AdultMortality', 'infantdeaths', 'under-fivedeaths', 'Alcohol',\n",
    "                'HepatitisB', 'Polio', 'Diphtheria', 'BMI', 'percentageexpenditure', 'Schooling', \n",
    "                 'Incomecompositionofresources')"
   ]
  },
  {
   "cell_type": "code",
   "execution_count": null,
   "metadata": {},
   "outputs": [],
   "source": []
  }
 ],
 "metadata": {
  "kernelspec": {
   "display_name": "Python 3",
   "language": "python",
   "name": "python3"
  },
  "language_info": {
   "codemirror_mode": {
    "name": "ipython",
    "version": 3
   },
   "file_extension": ".py",
   "mimetype": "text/x-python",
   "name": "python",
   "nbconvert_exporter": "python",
   "pygments_lexer": "ipython3",
   "version": "3.7.1"
  }
 },
 "nbformat": 4,
 "nbformat_minor": 2
}
